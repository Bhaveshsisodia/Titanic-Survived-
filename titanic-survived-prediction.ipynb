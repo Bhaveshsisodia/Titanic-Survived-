{
 "cells": [
  {
   "cell_type": "markdown",
   "id": "2f2f0b6c",
   "metadata": {
    "papermill": {
     "duration": 0.069275,
     "end_time": "2021-07-09T08:19:58.714219",
     "exception": false,
     "start_time": "2021-07-09T08:19:58.644944",
     "status": "completed"
    },
    "tags": []
   },
   "source": [
    " # 1.Importing Necessary Libararies"
   ]
  },
  {
   "cell_type": "code",
   "execution_count": 1,
   "id": "a4048ee2",
   "metadata": {
    "execution": {
     "iopub.execute_input": "2021-07-09T08:19:58.849212Z",
     "iopub.status.busy": "2021-07-09T08:19:58.848034Z",
     "iopub.status.idle": "2021-07-09T08:20:00.328631Z",
     "shell.execute_reply": "2021-07-09T08:20:00.327861Z",
     "shell.execute_reply.started": "2021-07-09T08:10:20.141109Z"
    },
    "papermill": {
     "duration": 1.548739,
     "end_time": "2021-07-09T08:20:00.328832",
     "exception": false,
     "start_time": "2021-07-09T08:19:58.780093",
     "status": "completed"
    },
    "tags": []
   },
   "outputs": [],
   "source": [
    "import numpy as np\n",
    "import pandas as pd\n",
    "import matplotlib.pyplot as plt\n",
    "import seaborn as sns\n",
    "from sklearn.preprocessing import LabelEncoder\n",
    "from sklearn.neighbors import KNeighborsClassifier\n",
    "from sklearn.model_selection import train_test_split\n",
    "from sklearn.ensemble import RandomForestClassifier\n",
    "from sklearn.linear_model import LogisticRegression\n",
    "from sklearn import tree,svm\n",
    "from sklearn.metrics import accuracy_score"
   ]
  },
  {
   "cell_type": "markdown",
   "id": "4effe489",
   "metadata": {
    "papermill": {
     "duration": 0.064191,
     "end_time": "2021-07-09T08:20:00.458384",
     "exception": false,
     "start_time": "2021-07-09T08:20:00.394193",
     "status": "completed"
    },
    "tags": []
   },
   "source": [
    " ## 2.Reading Our Data set"
   ]
  },
  {
   "cell_type": "code",
   "execution_count": 2,
   "id": "08c854e0",
   "metadata": {
    "execution": {
     "iopub.execute_input": "2021-07-09T08:20:00.593506Z",
     "iopub.status.busy": "2021-07-09T08:20:00.592796Z",
     "iopub.status.idle": "2021-07-09T08:20:00.607865Z",
     "shell.execute_reply": "2021-07-09T08:20:00.607263Z",
     "shell.execute_reply.started": "2021-07-09T08:10:20.149484Z"
    },
    "papermill": {
     "duration": 0.085171,
     "end_time": "2021-07-09T08:20:00.608023",
     "exception": false,
     "start_time": "2021-07-09T08:20:00.522852",
     "status": "completed"
    },
    "tags": []
   },
   "outputs": [],
   "source": [
    "train_titanic = pd.read_csv(r\"../input/titanic/train.csv\")"
   ]
  },
  {
   "cell_type": "code",
   "execution_count": 3,
   "id": "674333cd",
   "metadata": {
    "execution": {
     "iopub.execute_input": "2021-07-09T08:20:00.743064Z",
     "iopub.status.busy": "2021-07-09T08:20:00.742033Z",
     "iopub.status.idle": "2021-07-09T08:20:00.787732Z",
     "shell.execute_reply": "2021-07-09T08:20:00.788225Z",
     "shell.execute_reply.started": "2021-07-09T08:10:20.177927Z"
    },
    "papermill": {
     "duration": 0.115216,
     "end_time": "2021-07-09T08:20:00.788406",
     "exception": false,
     "start_time": "2021-07-09T08:20:00.673190",
     "status": "completed"
    },
    "tags": []
   },
   "outputs": [
    {
     "data": {
      "text/html": [
       "<div>\n",
       "<style scoped>\n",
       "    .dataframe tbody tr th:only-of-type {\n",
       "        vertical-align: middle;\n",
       "    }\n",
       "\n",
       "    .dataframe tbody tr th {\n",
       "        vertical-align: top;\n",
       "    }\n",
       "\n",
       "    .dataframe thead th {\n",
       "        text-align: right;\n",
       "    }\n",
       "</style>\n",
       "<table border=\"1\" class=\"dataframe\">\n",
       "  <thead>\n",
       "    <tr style=\"text-align: right;\">\n",
       "      <th></th>\n",
       "      <th>PassengerId</th>\n",
       "      <th>Survived</th>\n",
       "      <th>Pclass</th>\n",
       "      <th>Name</th>\n",
       "      <th>Sex</th>\n",
       "      <th>Age</th>\n",
       "      <th>SibSp</th>\n",
       "      <th>Parch</th>\n",
       "      <th>Ticket</th>\n",
       "      <th>Fare</th>\n",
       "      <th>Cabin</th>\n",
       "      <th>Embarked</th>\n",
       "    </tr>\n",
       "  </thead>\n",
       "  <tbody>\n",
       "    <tr>\n",
       "      <th>0</th>\n",
       "      <td>1</td>\n",
       "      <td>0</td>\n",
       "      <td>3</td>\n",
       "      <td>Braund, Mr. Owen Harris</td>\n",
       "      <td>male</td>\n",
       "      <td>22.0</td>\n",
       "      <td>1</td>\n",
       "      <td>0</td>\n",
       "      <td>A/5 21171</td>\n",
       "      <td>7.2500</td>\n",
       "      <td>NaN</td>\n",
       "      <td>S</td>\n",
       "    </tr>\n",
       "    <tr>\n",
       "      <th>1</th>\n",
       "      <td>2</td>\n",
       "      <td>1</td>\n",
       "      <td>1</td>\n",
       "      <td>Cumings, Mrs. John Bradley (Florence Briggs Th...</td>\n",
       "      <td>female</td>\n",
       "      <td>38.0</td>\n",
       "      <td>1</td>\n",
       "      <td>0</td>\n",
       "      <td>PC 17599</td>\n",
       "      <td>71.2833</td>\n",
       "      <td>C85</td>\n",
       "      <td>C</td>\n",
       "    </tr>\n",
       "    <tr>\n",
       "      <th>2</th>\n",
       "      <td>3</td>\n",
       "      <td>1</td>\n",
       "      <td>3</td>\n",
       "      <td>Heikkinen, Miss. Laina</td>\n",
       "      <td>female</td>\n",
       "      <td>26.0</td>\n",
       "      <td>0</td>\n",
       "      <td>0</td>\n",
       "      <td>STON/O2. 3101282</td>\n",
       "      <td>7.9250</td>\n",
       "      <td>NaN</td>\n",
       "      <td>S</td>\n",
       "    </tr>\n",
       "    <tr>\n",
       "      <th>3</th>\n",
       "      <td>4</td>\n",
       "      <td>1</td>\n",
       "      <td>1</td>\n",
       "      <td>Futrelle, Mrs. Jacques Heath (Lily May Peel)</td>\n",
       "      <td>female</td>\n",
       "      <td>35.0</td>\n",
       "      <td>1</td>\n",
       "      <td>0</td>\n",
       "      <td>113803</td>\n",
       "      <td>53.1000</td>\n",
       "      <td>C123</td>\n",
       "      <td>S</td>\n",
       "    </tr>\n",
       "    <tr>\n",
       "      <th>4</th>\n",
       "      <td>5</td>\n",
       "      <td>0</td>\n",
       "      <td>3</td>\n",
       "      <td>Allen, Mr. William Henry</td>\n",
       "      <td>male</td>\n",
       "      <td>35.0</td>\n",
       "      <td>0</td>\n",
       "      <td>0</td>\n",
       "      <td>373450</td>\n",
       "      <td>8.0500</td>\n",
       "      <td>NaN</td>\n",
       "      <td>S</td>\n",
       "    </tr>\n",
       "    <tr>\n",
       "      <th>...</th>\n",
       "      <td>...</td>\n",
       "      <td>...</td>\n",
       "      <td>...</td>\n",
       "      <td>...</td>\n",
       "      <td>...</td>\n",
       "      <td>...</td>\n",
       "      <td>...</td>\n",
       "      <td>...</td>\n",
       "      <td>...</td>\n",
       "      <td>...</td>\n",
       "      <td>...</td>\n",
       "      <td>...</td>\n",
       "    </tr>\n",
       "    <tr>\n",
       "      <th>886</th>\n",
       "      <td>887</td>\n",
       "      <td>0</td>\n",
       "      <td>2</td>\n",
       "      <td>Montvila, Rev. Juozas</td>\n",
       "      <td>male</td>\n",
       "      <td>27.0</td>\n",
       "      <td>0</td>\n",
       "      <td>0</td>\n",
       "      <td>211536</td>\n",
       "      <td>13.0000</td>\n",
       "      <td>NaN</td>\n",
       "      <td>S</td>\n",
       "    </tr>\n",
       "    <tr>\n",
       "      <th>887</th>\n",
       "      <td>888</td>\n",
       "      <td>1</td>\n",
       "      <td>1</td>\n",
       "      <td>Graham, Miss. Margaret Edith</td>\n",
       "      <td>female</td>\n",
       "      <td>19.0</td>\n",
       "      <td>0</td>\n",
       "      <td>0</td>\n",
       "      <td>112053</td>\n",
       "      <td>30.0000</td>\n",
       "      <td>B42</td>\n",
       "      <td>S</td>\n",
       "    </tr>\n",
       "    <tr>\n",
       "      <th>888</th>\n",
       "      <td>889</td>\n",
       "      <td>0</td>\n",
       "      <td>3</td>\n",
       "      <td>Johnston, Miss. Catherine Helen \"Carrie\"</td>\n",
       "      <td>female</td>\n",
       "      <td>NaN</td>\n",
       "      <td>1</td>\n",
       "      <td>2</td>\n",
       "      <td>W./C. 6607</td>\n",
       "      <td>23.4500</td>\n",
       "      <td>NaN</td>\n",
       "      <td>S</td>\n",
       "    </tr>\n",
       "    <tr>\n",
       "      <th>889</th>\n",
       "      <td>890</td>\n",
       "      <td>1</td>\n",
       "      <td>1</td>\n",
       "      <td>Behr, Mr. Karl Howell</td>\n",
       "      <td>male</td>\n",
       "      <td>26.0</td>\n",
       "      <td>0</td>\n",
       "      <td>0</td>\n",
       "      <td>111369</td>\n",
       "      <td>30.0000</td>\n",
       "      <td>C148</td>\n",
       "      <td>C</td>\n",
       "    </tr>\n",
       "    <tr>\n",
       "      <th>890</th>\n",
       "      <td>891</td>\n",
       "      <td>0</td>\n",
       "      <td>3</td>\n",
       "      <td>Dooley, Mr. Patrick</td>\n",
       "      <td>male</td>\n",
       "      <td>32.0</td>\n",
       "      <td>0</td>\n",
       "      <td>0</td>\n",
       "      <td>370376</td>\n",
       "      <td>7.7500</td>\n",
       "      <td>NaN</td>\n",
       "      <td>Q</td>\n",
       "    </tr>\n",
       "  </tbody>\n",
       "</table>\n",
       "<p>891 rows × 12 columns</p>\n",
       "</div>"
      ],
      "text/plain": [
       "     PassengerId  Survived  Pclass  \\\n",
       "0              1         0       3   \n",
       "1              2         1       1   \n",
       "2              3         1       3   \n",
       "3              4         1       1   \n",
       "4              5         0       3   \n",
       "..           ...       ...     ...   \n",
       "886          887         0       2   \n",
       "887          888         1       1   \n",
       "888          889         0       3   \n",
       "889          890         1       1   \n",
       "890          891         0       3   \n",
       "\n",
       "                                                  Name     Sex   Age  SibSp  \\\n",
       "0                              Braund, Mr. Owen Harris    male  22.0      1   \n",
       "1    Cumings, Mrs. John Bradley (Florence Briggs Th...  female  38.0      1   \n",
       "2                               Heikkinen, Miss. Laina  female  26.0      0   \n",
       "3         Futrelle, Mrs. Jacques Heath (Lily May Peel)  female  35.0      1   \n",
       "4                             Allen, Mr. William Henry    male  35.0      0   \n",
       "..                                                 ...     ...   ...    ...   \n",
       "886                              Montvila, Rev. Juozas    male  27.0      0   \n",
       "887                       Graham, Miss. Margaret Edith  female  19.0      0   \n",
       "888           Johnston, Miss. Catherine Helen \"Carrie\"  female   NaN      1   \n",
       "889                              Behr, Mr. Karl Howell    male  26.0      0   \n",
       "890                                Dooley, Mr. Patrick    male  32.0      0   \n",
       "\n",
       "     Parch            Ticket     Fare Cabin Embarked  \n",
       "0        0         A/5 21171   7.2500   NaN        S  \n",
       "1        0          PC 17599  71.2833   C85        C  \n",
       "2        0  STON/O2. 3101282   7.9250   NaN        S  \n",
       "3        0            113803  53.1000  C123        S  \n",
       "4        0            373450   8.0500   NaN        S  \n",
       "..     ...               ...      ...   ...      ...  \n",
       "886      0            211536  13.0000   NaN        S  \n",
       "887      0            112053  30.0000   B42        S  \n",
       "888      2        W./C. 6607  23.4500   NaN        S  \n",
       "889      0            111369  30.0000  C148        C  \n",
       "890      0            370376   7.7500   NaN        Q  \n",
       "\n",
       "[891 rows x 12 columns]"
      ]
     },
     "execution_count": 3,
     "metadata": {},
     "output_type": "execute_result"
    }
   ],
   "source": [
    "train_titanic"
   ]
  },
  {
   "cell_type": "markdown",
   "id": "124314af",
   "metadata": {
    "papermill": {
     "duration": 0.066529,
     "end_time": "2021-07-09T08:20:00.923607",
     "exception": false,
     "start_time": "2021-07-09T08:20:00.857078",
     "status": "completed"
    },
    "tags": []
   },
   "source": [
    "Types of variable:\n",
    "    1.Continuous - Age and Fare\n",
    "    2.Categorical - Sex & Embarked\n",
    "    3.Discrete - SibSp & Parch\n",
    "    4.Alphanumeric : Cabin"
   ]
  },
  {
   "cell_type": "code",
   "execution_count": 4,
   "id": "aa82dc03",
   "metadata": {
    "execution": {
     "iopub.execute_input": "2021-07-09T08:20:01.065878Z",
     "iopub.status.busy": "2021-07-09T08:20:01.065150Z",
     "iopub.status.idle": "2021-07-09T08:20:01.067893Z",
     "shell.execute_reply": "2021-07-09T08:20:01.068416Z",
     "shell.execute_reply.started": "2021-07-09T08:10:20.211026Z"
    },
    "papermill": {
     "duration": 0.077186,
     "end_time": "2021-07-09T08:20:01.068601",
     "exception": false,
     "start_time": "2021-07-09T08:20:00.991415",
     "status": "completed"
    },
    "tags": []
   },
   "outputs": [
    {
     "name": "stdout",
     "output_type": "stream",
     "text": [
      "The shape of our training set: 891 passenger and 12 features\n"
     ]
    }
   ],
   "source": [
    "print(f'The shape of our training set: {train_titanic.shape[0]} passenger and {train_titanic.shape[1]} features') #using Format-string "
   ]
  },
  {
   "cell_type": "code",
   "execution_count": 5,
   "id": "1ed45c57",
   "metadata": {
    "execution": {
     "iopub.execute_input": "2021-07-09T08:20:01.206322Z",
     "iopub.status.busy": "2021-07-09T08:20:01.205679Z",
     "iopub.status.idle": "2021-07-09T08:20:01.229249Z",
     "shell.execute_reply": "2021-07-09T08:20:01.228622Z",
     "shell.execute_reply.started": "2021-07-09T08:10:20.227842Z"
    },
    "papermill": {
     "duration": 0.092011,
     "end_time": "2021-07-09T08:20:01.229418",
     "exception": false,
     "start_time": "2021-07-09T08:20:01.137407",
     "status": "completed"
    },
    "tags": []
   },
   "outputs": [
    {
     "name": "stdout",
     "output_type": "stream",
     "text": [
      "<class 'pandas.core.frame.DataFrame'>\n",
      "RangeIndex: 891 entries, 0 to 890\n",
      "Data columns (total 12 columns):\n",
      " #   Column       Non-Null Count  Dtype  \n",
      "---  ------       --------------  -----  \n",
      " 0   PassengerId  891 non-null    int64  \n",
      " 1   Survived     891 non-null    int64  \n",
      " 2   Pclass       891 non-null    int64  \n",
      " 3   Name         891 non-null    object \n",
      " 4   Sex          891 non-null    object \n",
      " 5   Age          714 non-null    float64\n",
      " 6   SibSp        891 non-null    int64  \n",
      " 7   Parch        891 non-null    int64  \n",
      " 8   Ticket       891 non-null    object \n",
      " 9   Fare         891 non-null    float64\n",
      " 10  Cabin        204 non-null    object \n",
      " 11  Embarked     889 non-null    object \n",
      "dtypes: float64(2), int64(5), object(5)\n",
      "memory usage: 83.7+ KB\n"
     ]
    }
   ],
   "source": [
    "train_titanic.info()"
   ]
  },
  {
   "cell_type": "markdown",
   "id": "9475fa0c",
   "metadata": {
    "papermill": {
     "duration": 0.065306,
     "end_time": "2021-07-09T08:20:01.368117",
     "exception": false,
     "start_time": "2021-07-09T08:20:01.302811",
     "status": "completed"
    },
    "tags": []
   },
   "source": [
    "As we get information that we have total 891 entries and some them have less than 891 entries like Age ,cabin and Embarked"
   ]
  },
  {
   "cell_type": "code",
   "execution_count": 6,
   "id": "4a9cbcdd",
   "metadata": {
    "execution": {
     "iopub.execute_input": "2021-07-09T08:20:01.508237Z",
     "iopub.status.busy": "2021-07-09T08:20:01.507582Z",
     "iopub.status.idle": "2021-07-09T08:20:02.038260Z",
     "shell.execute_reply": "2021-07-09T08:20:02.037385Z",
     "shell.execute_reply.started": "2021-07-09T08:10:20.24946Z"
    },
    "papermill": {
     "duration": 0.603301,
     "end_time": "2021-07-09T08:20:02.038445",
     "exception": false,
     "start_time": "2021-07-09T08:20:01.435144",
     "status": "completed"
    },
    "tags": []
   },
   "outputs": [
    {
     "data": {
      "text/plain": [
       "<AxesSubplot:>"
      ]
     },
     "execution_count": 6,
     "metadata": {},
     "output_type": "execute_result"
    },
    {
     "data": {
      "image/png": "[encoded data removed]",
      "text/plain": [
       "<Figure size 432x288 with 2 Axes>"
      ]
     },
     "metadata": {
      "needs_background": "light"
     },
     "output_type": "display_data"
    }
   ],
   "source": [
    "#Null Values\n",
    "sns.heatmap(train_titanic.isnull(),cmap=\"viridis\") #Age and Cabin feature contain most of null values"
   ]
  },
  {
   "cell_type": "code",
   "execution_count": 7,
   "id": "84b8a49c",
   "metadata": {
    "execution": {
     "iopub.execute_input": "2021-07-09T08:20:02.184587Z",
     "iopub.status.busy": "2021-07-09T08:20:02.183726Z",
     "iopub.status.idle": "2021-07-09T08:20:02.188141Z",
     "shell.execute_reply": "2021-07-09T08:20:02.187518Z",
     "shell.execute_reply.started": "2021-07-09T08:10:20.704302Z"
    },
    "papermill": {
     "duration": 0.081143,
     "end_time": "2021-07-09T08:20:02.188276",
     "exception": false,
     "start_time": "2021-07-09T08:20:02.107133",
     "status": "completed"
    },
    "tags": []
   },
   "outputs": [
    {
     "data": {
      "text/plain": [
       "PassengerId      0\n",
       "Survived         0\n",
       "Pclass           0\n",
       "Name             0\n",
       "Sex              0\n",
       "Age            177\n",
       "SibSp            0\n",
       "Parch            0\n",
       "Ticket           0\n",
       "Fare             0\n",
       "Cabin          687\n",
       "Embarked         2\n",
       "dtype: int64"
      ]
     },
     "execution_count": 7,
     "metadata": {},
     "output_type": "execute_result"
    }
   ],
   "source": [
    "# Checking for Null Value\n",
    "train_titanic.isnull().sum() #embark feature also contain null values"
   ]
  },
  {
   "cell_type": "markdown",
   "id": "3747176f",
   "metadata": {
    "papermill": {
     "duration": 0.06807,
     "end_time": "2021-07-09T08:20:02.324704",
     "exception": false,
     "start_time": "2021-07-09T08:20:02.256634",
     "status": "completed"
    },
    "tags": []
   },
   "source": [
    "So now we can see that we have null values\n",
    "1.177 in Age\n",
    "2.687 in Cabin\n",
    "3.2 in Embarked"
   ]
  },
  {
   "cell_type": "code",
   "execution_count": 8,
   "id": "aeded59f",
   "metadata": {
    "execution": {
     "iopub.execute_input": "2021-07-09T08:20:02.467659Z",
     "iopub.status.busy": "2021-07-09T08:20:02.466752Z",
     "iopub.status.idle": "2021-07-09T08:20:02.471092Z",
     "shell.execute_reply": "2021-07-09T08:20:02.470488Z",
     "shell.execute_reply.started": "2021-07-09T08:10:20.714124Z"
    },
    "papermill": {
     "duration": 0.079615,
     "end_time": "2021-07-09T08:20:02.471229",
     "exception": false,
     "start_time": "2021-07-09T08:20:02.391614",
     "status": "completed"
    },
    "tags": []
   },
   "outputs": [
    {
     "data": {
      "text/plain": [
       "0    549\n",
       "1    342\n",
       "Name: Survived, dtype: int64"
      ]
     },
     "execution_count": 8,
     "metadata": {},
     "output_type": "execute_result"
    }
   ],
   "source": [
    "train_titanic['Survived'].value_counts() #Number of survived(1) and Not survived(0)"
   ]
  },
  {
   "cell_type": "markdown",
   "id": "d078c775",
   "metadata": {
    "papermill": {
     "duration": 0.066757,
     "end_time": "2021-07-09T08:20:02.606730",
     "exception": false,
     "start_time": "2021-07-09T08:20:02.539973",
     "status": "completed"
    },
    "tags": []
   },
   "source": [
    "## Plotting heat Map to see correlation between the features"
   ]
  },
  {
   "cell_type": "code",
   "execution_count": 9,
   "id": "15f0719c",
   "metadata": {
    "execution": {
     "iopub.execute_input": "2021-07-09T08:20:02.750782Z",
     "iopub.status.busy": "2021-07-09T08:20:02.748331Z",
     "iopub.status.idle": "2021-07-09T08:20:03.524865Z",
     "shell.execute_reply": "2021-07-09T08:20:03.524289Z",
     "shell.execute_reply.started": "2021-07-09T08:10:20.73015Z"
    },
    "papermill": {
     "duration": 0.850247,
     "end_time": "2021-07-09T08:20:03.525005",
     "exception": false,
     "start_time": "2021-07-09T08:20:02.674758",
     "status": "completed"
    },
    "tags": []
   },
   "outputs": [
    {
     "data": {
      "image/png": "[encoded data removed]",
      "text/plain": [
       "<Figure size 432x288 with 2 Axes>"
      ]
     },
     "metadata": {
      "needs_background": "light"
     },
     "output_type": "display_data"
    }
   ],
   "source": [
    "corr = sns.heatmap(train_titanic[[\"Survived\",\"SibSp\",\"Parch\",\"Age\",\"Fare\",\"PassengerId\",\"Pclass\"]].corr(),\n",
    "                  center=0,annot=True,linewidths=1,linecolor='b')\n",
    "sns.set(rc={'figure.figsize':(8,8)})"
   ]
  },
  {
   "cell_type": "markdown",
   "id": "48c7d707",
   "metadata": {
    "papermill": {
     "duration": 0.070753,
     "end_time": "2021-07-09T08:20:03.664436",
     "exception": false,
     "start_time": "2021-07-09T08:20:03.593683",
     "status": "completed"
    },
    "tags": []
   },
   "source": [
    "Conclusion:Fare Feature have a higher correlation with survival probability"
   ]
  },
  {
   "cell_type": "markdown",
   "id": "ae656dd2",
   "metadata": {
    "papermill": {
     "duration": 0.070523,
     "end_time": "2021-07-09T08:20:03.806660",
     "exception": false,
     "start_time": "2021-07-09T08:20:03.736137",
     "status": "completed"
    },
    "tags": []
   },
   "source": [
    "# 3.Exploratory Data Analysis"
   ]
  },
  {
   "cell_type": "markdown",
   "id": "1b9a9c2f",
   "metadata": {
    "papermill": {
     "duration": 0.068468,
     "end_time": "2021-07-09T08:20:03.944670",
     "exception": false,
     "start_time": "2021-07-09T08:20:03.876202",
     "status": "completed"
    },
    "tags": []
   },
   "source": [
    "Now we are going to visualise the correlation of each variable with a target variable i.e Survived."
   ]
  },
  {
   "cell_type": "markdown",
   "id": "ed1234f7",
   "metadata": {
    "papermill": {
     "duration": 0.070074,
     "end_time": "2021-07-09T08:20:04.084740",
     "exception": false,
     "start_time": "2021-07-09T08:20:04.014666",
     "status": "completed"
    },
    "tags": []
   },
   "source": [
    "## (A). SibSp - Number of siblings /spouses aboard the titanic"
   ]
  },
  {
   "cell_type": "code",
   "execution_count": 10,
   "id": "d3c0005f",
   "metadata": {
    "execution": {
     "iopub.execute_input": "2021-07-09T08:20:04.230705Z",
     "iopub.status.busy": "2021-07-09T08:20:04.229996Z",
     "iopub.status.idle": "2021-07-09T08:20:04.233640Z",
     "shell.execute_reply": "2021-07-09T08:20:04.234101Z",
     "shell.execute_reply.started": "2021-07-09T08:10:21.231274Z"
    },
    "papermill": {
     "duration": 0.07985,
     "end_time": "2021-07-09T08:20:04.234274",
     "exception": false,
     "start_time": "2021-07-09T08:20:04.154424",
     "status": "completed"
    },
    "tags": []
   },
   "outputs": [
    {
     "data": {
      "text/plain": [
       "array([1, 0, 3, 4, 2, 5, 8])"
      ]
     },
     "execution_count": 10,
     "metadata": {},
     "output_type": "execute_result"
    }
   ],
   "source": [
    "train_titanic['SibSp'].unique() # unique value in feature SibSp"
   ]
  },
  {
   "cell_type": "code",
   "execution_count": 11,
   "id": "c5692a68",
   "metadata": {
    "execution": {
     "iopub.execute_input": "2021-07-09T08:20:04.376167Z",
     "iopub.status.busy": "2021-07-09T08:20:04.375520Z",
     "iopub.status.idle": "2021-07-09T08:20:04.382002Z",
     "shell.execute_reply": "2021-07-09T08:20:04.382524Z",
     "shell.execute_reply.started": "2021-07-09T08:10:21.242491Z"
    },
    "papermill": {
     "duration": 0.078539,
     "end_time": "2021-07-09T08:20:04.382694",
     "exception": false,
     "start_time": "2021-07-09T08:20:04.304155",
     "status": "completed"
    },
    "tags": []
   },
   "outputs": [
    {
     "name": "stdout",
     "output_type": "stream",
     "text": [
      "0    608\n",
      "1    209\n",
      "2     28\n",
      "4     18\n",
      "3     16\n",
      "8      7\n",
      "5      5\n",
      "Name: SibSp, dtype: int64\n"
     ]
    }
   ],
   "source": [
    "print(train_titanic[\"SibSp\"].value_counts()) #Number of sibling and spouse"
   ]
  },
  {
   "cell_type": "code",
   "execution_count": 12,
   "id": "dd611c56",
   "metadata": {
    "execution": {
     "iopub.execute_input": "2021-07-09T08:20:04.528365Z",
     "iopub.status.busy": "2021-07-09T08:20:04.527626Z",
     "iopub.status.idle": "2021-07-09T08:20:04.555721Z",
     "shell.execute_reply": "2021-07-09T08:20:04.554405Z",
     "shell.execute_reply.started": "2021-07-09T08:10:21.256234Z"
    },
    "papermill": {
     "duration": 0.102861,
     "end_time": "2021-07-09T08:20:04.555878",
     "exception": false,
     "start_time": "2021-07-09T08:20:04.453017",
     "status": "completed"
    },
    "tags": []
   },
   "outputs": [
    {
     "data": {
      "text/plain": [
       "0    0.654605\n",
       "1    0.345395\n",
       "Name: Survived, dtype: float64"
      ]
     },
     "execution_count": 12,
     "metadata": {},
     "output_type": "execute_result"
    }
   ],
   "source": [
    "single= train_titanic[(train_titanic['SibSp']==0)] #Number of People travelling alone or withing sibling or spouse\n",
    "single['Survived'].value_counts(normalize=True) #people that survived or Not survived while travelling without sibling or spouse"
   ]
  },
  {
   "cell_type": "markdown",
   "id": "7ba69443",
   "metadata": {
    "papermill": {
     "duration": 0.070469,
     "end_time": "2021-07-09T08:20:04.697424",
     "exception": false,
     "start_time": "2021-07-09T08:20:04.626955",
     "status": "completed"
    },
    "tags": []
   },
   "source": [
    "65% people will not survived while travelling without spouse or sbiling whereas 34% people survived "
   ]
  },
  {
   "cell_type": "code",
   "execution_count": 13,
   "id": "46f1f65c",
   "metadata": {
    "execution": {
     "iopub.execute_input": "2021-07-09T08:20:04.848569Z",
     "iopub.status.busy": "2021-07-09T08:20:04.847864Z",
     "iopub.status.idle": "2021-07-09T08:20:05.516704Z",
     "shell.execute_reply": "2021-07-09T08:20:05.516137Z",
     "shell.execute_reply.started": "2021-07-09T08:10:21.291574Z"
    },
    "papermill": {
     "duration": 0.747345,
     "end_time": "2021-07-09T08:20:05.516851",
     "exception": false,
     "start_time": "2021-07-09T08:20:04.769506",
     "status": "completed"
    },
    "tags": []
   },
   "outputs": [
    {
     "data": {
      "image/png": "[encoded data removed]",
      "text/plain": [
       "<Figure size 288x360 with 1 Axes>"
      ]
     },
     "metadata": {},
     "output_type": "display_data"
    }
   ],
   "source": [
    "# passenger having 1 or 2 sibling have good chances of survival\n",
    "# more no.of siblings ---> less chance of survival\n",
    "bargraph = sns.catplot(x = \"SibSp\",y = \"Survived\",data =train_titanic, kind=\"bar\", height=5,aspect=.8)"
   ]
  },
  {
   "cell_type": "markdown",
   "id": "3836aab3",
   "metadata": {
    "papermill": {
     "duration": 0.070384,
     "end_time": "2021-07-09T08:20:05.657916",
     "exception": false,
     "start_time": "2021-07-09T08:20:05.587532",
     "status": "completed"
    },
    "tags": []
   },
   "source": [
    "## (B).AGE"
   ]
  },
  {
   "cell_type": "code",
   "execution_count": 14,
   "id": "14550287",
   "metadata": {
    "execution": {
     "iopub.execute_input": "2021-07-09T08:20:05.847524Z",
     "iopub.status.busy": "2021-07-09T08:20:05.845077Z",
     "iopub.status.idle": "2021-07-09T08:20:06.786746Z",
     "shell.execute_reply": "2021-07-09T08:20:06.785742Z",
     "shell.execute_reply.started": "2021-07-09T08:10:21.716775Z"
    },
    "papermill": {
     "duration": 1.056157,
     "end_time": "2021-07-09T08:20:06.786900",
     "exception": false,
     "start_time": "2021-07-09T08:20:05.730743",
     "status": "completed"
    },
    "tags": []
   },
   "outputs": [
    {
     "name": "stderr",
     "output_type": "stream",
     "text": [
      "/opt/conda/lib/python3.7/site-packages/seaborn/distributions.py:2557: FutureWarning: `distplot` is a deprecated function and will be removed in a future version. Please adapt your code to use either `displot` (a figure-level function with similar flexibility) or `histplot` (an axes-level function for histograms).\n",
      "  warnings.warn(msg, FutureWarning)\n",
      "/opt/conda/lib/python3.7/site-packages/seaborn/distributions.py:2557: FutureWarning: `distplot` is a deprecated function and will be removed in a future version. Please adapt your code to use either `displot` (a figure-level function with similar flexibility) or `histplot` (an axes-level function for histograms).\n",
      "  warnings.warn(msg, FutureWarning)\n"
     ]
    },
    {
     "data": {
      "image/png": "[encoded data removed]",
      "text/plain": [
       "<Figure size 576x288 with 2 Axes>"
      ]
     },
     "metadata": {},
     "output_type": "display_data"
    }
   ],
   "source": [
    "ageplot = sns.FacetGrid(train_titanic, col=\"Survived\", height =4)\n",
    "ageplot = ageplot.map(sns.distplot, \"Age\")\n",
    "ageplot = ageplot.set_ylabels(\"Survival Probability\")\n"
   ]
  },
  {
   "cell_type": "markdown",
   "id": "3484bec4",
   "metadata": {
    "papermill": {
     "duration": 0.072297,
     "end_time": "2021-07-09T08:20:06.933375",
     "exception": false,
     "start_time": "2021-07-09T08:20:06.861078",
     "status": "completed"
    },
    "tags": []
   },
   "source": [
    "Conclusion:-As the age increase chances or survival decrease "
   ]
  },
  {
   "cell_type": "markdown",
   "id": "1ba480e1",
   "metadata": {
    "papermill": {
     "duration": 0.073384,
     "end_time": "2021-07-09T08:20:07.082078",
     "exception": false,
     "start_time": "2021-07-09T08:20:07.008694",
     "status": "completed"
    },
    "tags": []
   },
   "source": [
    "## (C). SEX"
   ]
  },
  {
   "cell_type": "code",
   "execution_count": 15,
   "id": "33afc89f",
   "metadata": {
    "execution": {
     "iopub.execute_input": "2021-07-09T08:20:07.235795Z",
     "iopub.status.busy": "2021-07-09T08:20:07.235070Z",
     "iopub.status.idle": "2021-07-09T08:20:07.243597Z",
     "shell.execute_reply": "2021-07-09T08:20:07.242935Z",
     "shell.execute_reply.started": "2021-07-09T08:10:22.500024Z"
    },
    "papermill": {
     "duration": 0.089578,
     "end_time": "2021-07-09T08:20:07.243741",
     "exception": false,
     "start_time": "2021-07-09T08:20:07.154163",
     "status": "completed"
    },
    "tags": []
   },
   "outputs": [
    {
     "data": {
      "text/plain": [
       "Sex     Survived\n",
       "female  1           233\n",
       "        0            81\n",
       "male    0           468\n",
       "        1           109\n",
       "Name: Survived, dtype: int64"
      ]
     },
     "execution_count": 15,
     "metadata": {},
     "output_type": "execute_result"
    }
   ],
   "source": [
    "# Number of male and female which are survived or not survived\n",
    "train_titanic.groupby('Sex')[\"Survived\"].value_counts() "
   ]
  },
  {
   "cell_type": "code",
   "execution_count": 16,
   "id": "3abed3cd",
   "metadata": {
    "execution": {
     "iopub.execute_input": "2021-07-09T08:20:07.396432Z",
     "iopub.status.busy": "2021-07-09T08:20:07.395369Z",
     "iopub.status.idle": "2021-07-09T08:20:07.404693Z",
     "shell.execute_reply": "2021-07-09T08:20:07.403996Z",
     "shell.execute_reply.started": "2021-07-09T08:10:22.514129Z"
    },
    "papermill": {
     "duration": 0.088221,
     "end_time": "2021-07-09T08:20:07.404834",
     "exception": false,
     "start_time": "2021-07-09T08:20:07.316613",
     "status": "completed"
    },
    "tags": []
   },
   "outputs": [
    {
     "data": {
      "text/plain": [
       "18.890814558058924"
      ]
     },
     "execution_count": 16,
     "metadata": {},
     "output_type": "execute_result"
    }
   ],
   "source": [
    "# Survival Rate= How many male were alived / Total number of males?\n",
    "train_titanic.groupby('Sex')['Survived'].value_counts()[3]/train_titanic['Sex'].value_counts()[0]*100 "
   ]
  },
  {
   "cell_type": "code",
   "execution_count": 17,
   "id": "84ce0030",
   "metadata": {
    "execution": {
     "iopub.execute_input": "2021-07-09T08:20:07.557167Z",
     "iopub.status.busy": "2021-07-09T08:20:07.556251Z",
     "iopub.status.idle": "2021-07-09T08:20:07.563148Z",
     "shell.execute_reply": "2021-07-09T08:20:07.562634Z",
     "shell.execute_reply.started": "2021-07-09T08:10:22.53378Z"
    },
    "papermill": {
     "duration": 0.085519,
     "end_time": "2021-07-09T08:20:07.563280",
     "exception": false,
     "start_time": "2021-07-09T08:20:07.477761",
     "status": "completed"
    },
    "tags": []
   },
   "outputs": [
    {
     "data": {
      "text/plain": [
       "74.20382165605095"
      ]
     },
     "execution_count": 17,
     "metadata": {},
     "output_type": "execute_result"
    }
   ],
   "source": [
    "# Survival Rate= How many female were alived / Total number of Females?\n",
    "train_titanic.groupby('Sex')['Survived'].value_counts()[0]/train_titanic['Sex'].value_counts()[1]*100\n"
   ]
  },
  {
   "cell_type": "code",
   "execution_count": 18,
   "id": "a6057e80",
   "metadata": {
    "execution": {
     "iopub.execute_input": "2021-07-09T08:20:07.740357Z",
     "iopub.status.busy": "2021-07-09T08:20:07.739639Z",
     "iopub.status.idle": "2021-07-09T08:20:07.910427Z",
     "shell.execute_reply": "2021-07-09T08:20:07.909818Z",
     "shell.execute_reply.started": "2021-07-09T08:10:22.545701Z"
    },
    "papermill": {
     "duration": 0.272031,
     "end_time": "2021-07-09T08:20:07.910573",
     "exception": false,
     "start_time": "2021-07-09T08:20:07.638542",
     "status": "completed"
    },
    "tags": []
   },
   "outputs": [
    {
     "data": {
      "text/plain": [
       "<AxesSubplot:xlabel='Sex', ylabel='count'>"
      ]
     },
     "execution_count": 18,
     "metadata": {},
     "output_type": "execute_result"
    },
    {
     "data": {
      "image/png": "[encoded data removed]",
      "text/plain": [
       "<Figure size 288x360 with 1 Axes>"
      ]
     },
     "metadata": {},
     "output_type": "display_data"
    }
   ],
   "source": [
    "fig, ax = plt.subplots(figsize=(4, 5))\n",
    "sns.countplot(x=\"Sex\",hue=\"Survived\",data=train_titanic,ax=ax) "
   ]
  },
  {
   "cell_type": "code",
   "execution_count": 19,
   "id": "376f5a9b",
   "metadata": {
    "execution": {
     "iopub.execute_input": "2021-07-09T08:20:08.095023Z",
     "iopub.status.busy": "2021-07-09T08:20:08.094243Z",
     "iopub.status.idle": "2021-07-09T08:20:08.326389Z",
     "shell.execute_reply": "2021-07-09T08:20:08.325662Z",
     "shell.execute_reply.started": "2021-07-09T08:10:22.67798Z"
    },
    "papermill": {
     "duration": 0.340642,
     "end_time": "2021-07-09T08:20:08.326546",
     "exception": false,
     "start_time": "2021-07-09T08:20:07.985904",
     "status": "completed"
    },
    "tags": []
   },
   "outputs": [
    {
     "data": {
      "image/png": "[encoded data removed]",
      "text/plain": [
       "<Figure size 288x360 with 1 Axes>"
      ]
     },
     "metadata": {},
     "output_type": "display_data"
    }
   ],
   "source": [
    "#Overall Survival Graph\n",
    "fig, ax = plt.subplots(figsize=(4, 5))\n",
    "Overall_survival = sns.barplot(x=\"Sex\",y=\"Survived\",data=train_titanic)"
   ]
  },
  {
   "cell_type": "markdown",
   "id": "0a642947",
   "metadata": {
    "papermill": {
     "duration": 0.076479,
     "end_time": "2021-07-09T08:20:08.479130",
     "exception": false,
     "start_time": "2021-07-09T08:20:08.402651",
     "status": "completed"
    },
    "tags": []
   },
   "source": [
    "Female have more chances of survival than male"
   ]
  },
  {
   "cell_type": "markdown",
   "id": "f4021ec9",
   "metadata": {
    "papermill": {
     "duration": 0.076628,
     "end_time": "2021-07-09T08:20:08.631801",
     "exception": false,
     "start_time": "2021-07-09T08:20:08.555173",
     "status": "completed"
    },
    "tags": []
   },
   "source": [
    "## (D) Pclass"
   ]
  },
  {
   "cell_type": "code",
   "execution_count": 20,
   "id": "615b48c9",
   "metadata": {
    "execution": {
     "iopub.execute_input": "2021-07-09T08:20:08.791371Z",
     "iopub.status.busy": "2021-07-09T08:20:08.790601Z",
     "iopub.status.idle": "2021-07-09T08:20:08.798498Z",
     "shell.execute_reply": "2021-07-09T08:20:08.797789Z",
     "shell.execute_reply.started": "2021-07-09T08:10:22.842563Z"
    },
    "papermill": {
     "duration": 0.091035,
     "end_time": "2021-07-09T08:20:08.798734",
     "exception": false,
     "start_time": "2021-07-09T08:20:08.707699",
     "status": "completed"
    },
    "tags": []
   },
   "outputs": [
    {
     "data": {
      "text/plain": [
       "Survived  Pclass\n",
       "0         3         372\n",
       "          2          97\n",
       "          1          80\n",
       "1         1         136\n",
       "          3         119\n",
       "          2          87\n",
       "Name: Pclass, dtype: int64"
      ]
     },
     "execution_count": 20,
     "metadata": {},
     "output_type": "execute_result"
    }
   ],
   "source": [
    "train_titanic.groupby('Survived')[\"Pclass\"].value_counts()"
   ]
  },
  {
   "cell_type": "code",
   "execution_count": 21,
   "id": "80759cbf",
   "metadata": {
    "execution": {
     "iopub.execute_input": "2021-07-09T08:20:08.958807Z",
     "iopub.status.busy": "2021-07-09T08:20:08.958074Z",
     "iopub.status.idle": "2021-07-09T08:20:09.415051Z",
     "shell.execute_reply": "2021-07-09T08:20:09.414410Z",
     "shell.execute_reply.started": "2021-07-09T08:10:22.852926Z"
    },
    "papermill": {
     "duration": 0.540555,
     "end_time": "2021-07-09T08:20:09.415189",
     "exception": false,
     "start_time": "2021-07-09T08:20:08.874634",
     "status": "completed"
    },
    "tags": []
   },
   "outputs": [
    {
     "data": {
      "image/png": "[encoded data removed]",
      "text/plain": [
       "<Figure size 360x360 with 1 Axes>"
      ]
     },
     "metadata": {},
     "output_type": "display_data"
    }
   ],
   "source": [
    "pclassplot = sns.catplot(x='Pclass',y= \"Survived\",data= train_titanic, kind='bar',height=5)"
   ]
  },
  {
   "cell_type": "markdown",
   "id": "0d66f010",
   "metadata": {
    "papermill": {
     "duration": 0.076391,
     "end_time": "2021-07-09T08:20:09.568953",
     "exception": false,
     "start_time": "2021-07-09T08:20:09.492562",
     "status": "completed"
    },
    "tags": []
   },
   "source": [
    "### (E) Pclass vs Gender"
   ]
  },
  {
   "cell_type": "code",
   "execution_count": 22,
   "id": "088fd82b",
   "metadata": {
    "execution": {
     "iopub.execute_input": "2021-07-09T08:20:09.728377Z",
     "iopub.status.busy": "2021-07-09T08:20:09.727671Z",
     "iopub.status.idle": "2021-07-09T08:20:09.736575Z",
     "shell.execute_reply": "2021-07-09T08:20:09.735887Z",
     "shell.execute_reply.started": "2021-07-09T08:10:23.165345Z"
    },
    "papermill": {
     "duration": 0.091042,
     "end_time": "2021-07-09T08:20:09.736723",
     "exception": false,
     "start_time": "2021-07-09T08:20:09.645681",
     "status": "completed"
    },
    "tags": []
   },
   "outputs": [
    {
     "data": {
      "text/plain": [
       "Sex     Pclass\n",
       "female  3         144\n",
       "        1          94\n",
       "        2          76\n",
       "male    3         347\n",
       "        1         122\n",
       "        2         108\n",
       "Name: Pclass, dtype: int64"
      ]
     },
     "execution_count": 22,
     "metadata": {},
     "output_type": "execute_result"
    }
   ],
   "source": [
    "train_titanic.groupby(\"Sex\")['Pclass'].value_counts()"
   ]
  },
  {
   "cell_type": "code",
   "execution_count": 23,
   "id": "80efd7bd",
   "metadata": {
    "execution": {
     "iopub.execute_input": "2021-07-09T08:20:09.904590Z",
     "iopub.status.busy": "2021-07-09T08:20:09.902722Z",
     "iopub.status.idle": "2021-07-09T08:20:10.144807Z",
     "shell.execute_reply": "2021-07-09T08:20:10.144095Z",
     "shell.execute_reply.started": "2021-07-09T08:10:23.17499Z"
    },
    "papermill": {
     "duration": 0.326691,
     "end_time": "2021-07-09T08:20:10.144966",
     "exception": false,
     "start_time": "2021-07-09T08:20:09.818275",
     "status": "completed"
    },
    "tags": []
   },
   "outputs": [
    {
     "data": {
      "text/plain": [
       "<AxesSubplot:xlabel='Sex', ylabel='count'>"
      ]
     },
     "execution_count": 23,
     "metadata": {},
     "output_type": "execute_result"
    },
    {
     "data": {
      "image/png": "[encoded data removed]",
      "text/plain": [
       "<Figure size 576x576 with 1 Axes>"
      ]
     },
     "metadata": {},
     "output_type": "display_data"
    }
   ],
   "source": [
    "# fig, ax = plt.subplots(figsize=(4, 5)\n",
    "sns.countplot(x=\"Sex\",hue=\"Pclass\",data=train_titanic,palette=\"bright\")"
   ]
  },
  {
   "cell_type": "markdown",
   "id": "1cd83719",
   "metadata": {
    "papermill": {
     "duration": 0.099379,
     "end_time": "2021-07-09T08:20:10.329071",
     "exception": false,
     "start_time": "2021-07-09T08:20:10.229692",
     "status": "completed"
    },
    "tags": []
   },
   "source": [
    "Conclusion :- Number of passenger in male category is in greater extent in passenger class 3 similarly in female"
   ]
  },
  {
   "cell_type": "code",
   "execution_count": 24,
   "id": "ba0c3dba",
   "metadata": {
    "execution": {
     "iopub.execute_input": "2021-07-09T08:20:10.495673Z",
     "iopub.status.busy": "2021-07-09T08:20:10.494700Z",
     "iopub.status.idle": "2021-07-09T08:20:10.503887Z",
     "shell.execute_reply": "2021-07-09T08:20:10.503264Z",
     "shell.execute_reply.started": "2021-07-09T08:10:23.340959Z"
    },
    "papermill": {
     "duration": 0.095343,
     "end_time": "2021-07-09T08:20:10.504037",
     "exception": false,
     "start_time": "2021-07-09T08:20:10.408694",
     "status": "completed"
    },
    "tags": []
   },
   "outputs": [
    {
     "data": {
      "text/plain": [
       "Pclass  Sex     Survived\n",
       "1       female  1            91\n",
       "                0             3\n",
       "        male    0            77\n",
       "                1            45\n",
       "2       female  1            70\n",
       "                0             6\n",
       "        male    0            91\n",
       "                1            17\n",
       "3       female  0            72\n",
       "                1            72\n",
       "        male    0           300\n",
       "                1            47\n",
       "Name: Survived, dtype: int64"
      ]
     },
     "execution_count": 24,
     "metadata": {},
     "output_type": "execute_result"
    }
   ],
   "source": [
    "#how many people were survived travelling in different passenger class based on gender\n",
    "train_titanic.groupby(['Pclass','Sex'])[\"Survived\"].value_counts()"
   ]
  },
  {
   "cell_type": "code",
   "execution_count": 25,
   "id": "cf0c5d4f",
   "metadata": {
    "execution": {
     "iopub.execute_input": "2021-07-09T08:20:10.669974Z",
     "iopub.status.busy": "2021-07-09T08:20:10.669188Z",
     "iopub.status.idle": "2021-07-09T08:20:11.023396Z",
     "shell.execute_reply": "2021-07-09T08:20:11.022793Z",
     "shell.execute_reply.started": "2021-07-09T08:10:23.353067Z"
    },
    "papermill": {
     "duration": 0.439616,
     "end_time": "2021-07-09T08:20:11.023541",
     "exception": false,
     "start_time": "2021-07-09T08:20:10.583925",
     "status": "completed"
    },
    "tags": []
   },
   "outputs": [
    {
     "data": {
      "text/plain": [
       "<AxesSubplot:xlabel='Pclass,Sex,Survived'>"
      ]
     },
     "execution_count": 25,
     "metadata": {},
     "output_type": "execute_result"
    },
    {
     "data": {
      "image/png": "[encoded data removed]",
      "text/plain": [
       "<Figure size 1080x360 with 1 Axes>"
      ]
     },
     "metadata": {},
     "output_type": "display_data"
    }
   ],
   "source": [
    "plt.figure(figsize=(15,5))\n",
    "train_titanic.groupby(['Pclass','Sex'])['Survived'].value_counts().sort_values(ascending=False).plot(kind='bar')"
   ]
  },
  {
   "cell_type": "markdown",
   "id": "bf46d70d",
   "metadata": {
    "papermill": {
     "duration": 0.083236,
     "end_time": "2021-07-09T08:20:11.190708",
     "exception": false,
     "start_time": "2021-07-09T08:20:11.107472",
     "status": "completed"
    },
    "tags": []
   },
   "source": [
    "Conclusion:- Number of males died in 3 passenger class is maximum because of number of males are in greater extent "
   ]
  },
  {
   "cell_type": "code",
   "execution_count": 26,
   "id": "acc95309",
   "metadata": {
    "execution": {
     "iopub.execute_input": "2021-07-09T08:20:11.363545Z",
     "iopub.status.busy": "2021-07-09T08:20:11.362699Z",
     "iopub.status.idle": "2021-07-09T08:20:12.052228Z",
     "shell.execute_reply": "2021-07-09T08:20:12.052968Z",
     "shell.execute_reply.started": "2021-07-09T08:10:23.659826Z"
    },
    "papermill": {
     "duration": 0.779913,
     "end_time": "2021-07-09T08:20:12.053160",
     "exception": false,
     "start_time": "2021-07-09T08:20:11.273247",
     "status": "completed"
    },
    "tags": []
   },
   "outputs": [
    {
     "data": {
      "text/plain": [
       "<seaborn.axisgrid.FacetGrid at 0x7f8ffcda4e10>"
      ]
     },
     "execution_count": 26,
     "metadata": {},
     "output_type": "execute_result"
    },
    {
     "data": {
      "image/png": "[encoded data removed]",
      "text/plain": [
       "<Figure size 581.975x504 with 1 Axes>"
      ]
     },
     "metadata": {},
     "output_type": "display_data"
    }
   ],
   "source": [
    "sns.catplot(x=\"Pclass\",y=\"Survived\",hue=\"Sex\", data=train_titanic,height= 7,kind=\"bar\")"
   ]
  },
  {
   "cell_type": "markdown",
   "id": "9fa1cf56",
   "metadata": {
    "papermill": {
     "duration": 0.081018,
     "end_time": "2021-07-09T08:20:12.215543",
     "exception": false,
     "start_time": "2021-07-09T08:20:12.134525",
     "status": "completed"
    },
    "tags": []
   },
   "source": [
    "In each class females have much higher chances of survival in comparison to male passengers."
   ]
  },
  {
   "cell_type": "markdown",
   "id": "3407dbe8",
   "metadata": {
    "papermill": {
     "duration": 0.084232,
     "end_time": "2021-07-09T08:20:12.384294",
     "exception": false,
     "start_time": "2021-07-09T08:20:12.300062",
     "status": "completed"
    },
    "tags": []
   },
   "source": [
    "## (F) Embarked"
   ]
  },
  {
   "cell_type": "code",
   "execution_count": 27,
   "id": "c38cf74e",
   "metadata": {
    "execution": {
     "iopub.execute_input": "2021-07-09T08:20:12.553181Z",
     "iopub.status.busy": "2021-07-09T08:20:12.552217Z",
     "iopub.status.idle": "2021-07-09T08:20:12.556901Z",
     "shell.execute_reply": "2021-07-09T08:20:12.556398Z",
     "shell.execute_reply.started": "2021-07-09T08:10:24.099987Z"
    },
    "papermill": {
     "duration": 0.091146,
     "end_time": "2021-07-09T08:20:12.557041",
     "exception": false,
     "start_time": "2021-07-09T08:20:12.465895",
     "status": "completed"
    },
    "tags": []
   },
   "outputs": [
    {
     "data": {
      "text/plain": [
       "2"
      ]
     },
     "execution_count": 27,
     "metadata": {},
     "output_type": "execute_result"
    }
   ],
   "source": [
    "train_titanic['Embarked'].isnull().sum()"
   ]
  },
  {
   "cell_type": "code",
   "execution_count": 28,
   "id": "5c52cc6c",
   "metadata": {
    "execution": {
     "iopub.execute_input": "2021-07-09T08:20:12.729828Z",
     "iopub.status.busy": "2021-07-09T08:20:12.728976Z",
     "iopub.status.idle": "2021-07-09T08:20:12.734152Z",
     "shell.execute_reply": "2021-07-09T08:20:12.733656Z",
     "shell.execute_reply.started": "2021-07-09T08:10:24.10714Z"
    },
    "papermill": {
     "duration": 0.094687,
     "end_time": "2021-07-09T08:20:12.734290",
     "exception": false,
     "start_time": "2021-07-09T08:20:12.639603",
     "status": "completed"
    },
    "tags": []
   },
   "outputs": [
    {
     "data": {
      "text/plain": [
       "S    644\n",
       "C    168\n",
       "Q     77\n",
       "Name: Embarked, dtype: int64"
      ]
     },
     "execution_count": 28,
     "metadata": {},
     "output_type": "execute_result"
    }
   ],
   "source": [
    "train_titanic['Embarked'].value_counts()"
   ]
  },
  {
   "cell_type": "markdown",
   "id": "67bd9ede",
   "metadata": {
    "papermill": {
     "duration": 0.081799,
     "end_time": "2021-07-09T08:20:12.897930",
     "exception": false,
     "start_time": "2021-07-09T08:20:12.816131",
     "status": "completed"
    },
    "tags": []
   },
   "source": [
    "Maximum number of passengers are from S Embarked"
   ]
  },
  {
   "cell_type": "code",
   "execution_count": 29,
   "id": "fef5105c",
   "metadata": {
    "execution": {
     "iopub.execute_input": "2021-07-09T08:20:13.076031Z",
     "iopub.status.busy": "2021-07-09T08:20:13.075333Z",
     "iopub.status.idle": "2021-07-09T08:20:13.079317Z",
     "shell.execute_reply": "2021-07-09T08:20:13.078666Z",
     "shell.execute_reply.started": "2021-07-09T08:10:24.123466Z"
    },
    "papermill": {
     "duration": 0.094547,
     "end_time": "2021-07-09T08:20:13.079487",
     "exception": false,
     "start_time": "2021-07-09T08:20:12.984940",
     "status": "completed"
    },
    "tags": []
   },
   "outputs": [],
   "source": [
    "train_titanic['Embarked'].fillna('S',inplace=True)"
   ]
  },
  {
   "cell_type": "code",
   "execution_count": 30,
   "id": "917c8fcf",
   "metadata": {
    "execution": {
     "iopub.execute_input": "2021-07-09T08:20:13.259700Z",
     "iopub.status.busy": "2021-07-09T08:20:13.258975Z",
     "iopub.status.idle": "2021-07-09T08:20:13.721102Z",
     "shell.execute_reply": "2021-07-09T08:20:13.721672Z",
     "shell.execute_reply.started": "2021-07-09T08:10:24.138247Z"
    },
    "papermill": {
     "duration": 0.554725,
     "end_time": "2021-07-09T08:20:13.721853",
     "exception": false,
     "start_time": "2021-07-09T08:20:13.167128",
     "status": "completed"
    },
    "tags": []
   },
   "outputs": [
    {
     "data": {
      "text/plain": [
       "<seaborn.axisgrid.FacetGrid at 0x7f8ffcc19dd0>"
      ]
     },
     "execution_count": 30,
     "metadata": {},
     "output_type": "execute_result"
    },
    {
     "data": {
      "image/png": "[encoded data removed]",
      "text/plain": [
       "<Figure size 360x360 with 1 Axes>"
      ]
     },
     "metadata": {},
     "output_type": "display_data"
    }
   ],
   "source": [
    "sns.catplot(x='Embarked',y=\"Survived\",data=train_titanic, height=5, kind=\"bar\")"
   ]
  },
  {
   "cell_type": "markdown",
   "id": "a22baac5",
   "metadata": {
    "papermill": {
     "duration": 0.08416,
     "end_time": "2021-07-09T08:20:13.889625",
     "exception": false,
     "start_time": "2021-07-09T08:20:13.805465",
     "status": "completed"
    },
    "tags": []
   },
   "source": [
    "## (G) Pclass vs Survived by Embarked"
   ]
  },
  {
   "cell_type": "code",
   "execution_count": 31,
   "id": "72a8df5b",
   "metadata": {
    "execution": {
     "iopub.execute_input": "2021-07-09T08:20:14.060321Z",
     "iopub.status.busy": "2021-07-09T08:20:14.059668Z",
     "iopub.status.idle": "2021-07-09T08:20:14.897419Z",
     "shell.execute_reply": "2021-07-09T08:20:14.896651Z",
     "shell.execute_reply.started": "2021-07-09T08:10:24.450602Z"
    },
    "papermill": {
     "duration": 0.925288,
     "end_time": "2021-07-09T08:20:14.897582",
     "exception": false,
     "start_time": "2021-07-09T08:20:13.972294",
     "status": "completed"
    },
    "tags": []
   },
   "outputs": [
    {
     "data": {
      "text/plain": [
       "<seaborn.axisgrid.FacetGrid at 0x7f8ffcb24b10>"
      ]
     },
     "execution_count": 31,
     "metadata": {},
     "output_type": "execute_result"
    },
    {
     "data": {
      "image/png": "[encoded data removed]",
      "text/plain": [
       "<Figure size 1512x504 with 3 Axes>"
      ]
     },
     "metadata": {},
     "output_type": "display_data"
    }
   ],
   "source": [
    "sns.catplot(x='Pclass',col='Embarked',data=train_titanic, height=7, kind = \"count\")"
   ]
  },
  {
   "cell_type": "markdown",
   "id": "246047bc",
   "metadata": {
    "papermill": {
     "duration": 0.089071,
     "end_time": "2021-07-09T08:20:15.077169",
     "exception": false,
     "start_time": "2021-07-09T08:20:14.988098",
     "status": "completed"
    },
    "tags": []
   },
   "source": [
    "Conclusion:- Maximum passenger in embarked C is from 1st class that's why survival probability is higher"
   ]
  },
  {
   "cell_type": "markdown",
   "id": "b789ccaa",
   "metadata": {
    "papermill": {
     "duration": 0.140736,
     "end_time": "2021-07-09T08:20:15.310029",
     "exception": false,
     "start_time": "2021-07-09T08:20:15.169293",
     "status": "completed"
    },
    "tags": []
   },
   "source": [
    "## (H) Fare"
   ]
  },
  {
   "cell_type": "code",
   "execution_count": 32,
   "id": "203f7d0a",
   "metadata": {
    "execution": {
     "iopub.execute_input": "2021-07-09T08:20:15.510990Z",
     "iopub.status.busy": "2021-07-09T08:20:15.510324Z",
     "iopub.status.idle": "2021-07-09T08:20:15.770269Z",
     "shell.execute_reply": "2021-07-09T08:20:15.769672Z",
     "shell.execute_reply.started": "2021-07-09T08:10:24.981993Z"
    },
    "papermill": {
     "duration": 0.375688,
     "end_time": "2021-07-09T08:20:15.770438",
     "exception": false,
     "start_time": "2021-07-09T08:20:15.394750",
     "status": "completed"
    },
    "tags": []
   },
   "outputs": [
    {
     "name": "stderr",
     "output_type": "stream",
     "text": [
      "/opt/conda/lib/python3.7/site-packages/seaborn/distributions.py:2557: FutureWarning: `distplot` is a deprecated function and will be removed in a future version. Please adapt your code to use either `displot` (a figure-level function with similar flexibility) or `histplot` (an axes-level function for histograms).\n",
      "  warnings.warn(msg, FutureWarning)\n"
     ]
    },
    {
     "data": {
      "image/png": "[encoded data removed]",
      "text/plain": [
       "<Figure size 576x576 with 1 Axes>"
      ]
     },
     "metadata": {},
     "output_type": "display_data"
    }
   ],
   "source": [
    "fare=sns.distplot(train_titanic['Fare'],kde=False, bins=10)"
   ]
  },
  {
   "cell_type": "markdown",
   "id": "ae1032b4",
   "metadata": {
    "papermill": {
     "duration": 0.085477,
     "end_time": "2021-07-09T08:20:15.945436",
     "exception": false,
     "start_time": "2021-07-09T08:20:15.859959",
     "status": "completed"
    },
    "tags": []
   },
   "source": [
    "conclusion:- almost more than 700 passengers the fare price is between 0 to 50"
   ]
  },
  {
   "cell_type": "code",
   "execution_count": 33,
   "id": "3f20fc48",
   "metadata": {
    "execution": {
     "iopub.execute_input": "2021-07-09T08:20:16.203816Z",
     "iopub.status.busy": "2021-07-09T08:20:16.186725Z",
     "iopub.status.idle": "2021-07-09T08:20:17.370550Z",
     "shell.execute_reply": "2021-07-09T08:20:17.369834Z",
     "shell.execute_reply.started": "2021-07-09T08:10:25.209585Z"
    },
    "papermill": {
     "duration": 1.334726,
     "end_time": "2021-07-09T08:20:17.370694",
     "exception": false,
     "start_time": "2021-07-09T08:20:16.035968",
     "status": "completed"
    },
    "tags": []
   },
   "outputs": [
    {
     "data": {
      "text/plain": [
       "<seaborn.axisgrid.JointGrid at 0x7f8ffc67dad0>"
      ]
     },
     "execution_count": 33,
     "metadata": {},
     "output_type": "execute_result"
    },
    {
     "data": {
      "image/png": "[encoded data removed]",
      "text/plain": [
       "<Figure size 432x432 with 3 Axes>"
      ]
     },
     "metadata": {},
     "output_type": "display_data"
    }
   ],
   "source": [
    "sns.jointplot(x='Fare',y='Age',data=train_titanic)"
   ]
  },
  {
   "cell_type": "markdown",
   "id": "408a045b",
   "metadata": {
    "papermill": {
     "duration": 0.090753,
     "end_time": "2021-07-09T08:20:17.550766",
     "exception": false,
     "start_time": "2021-07-09T08:20:17.460013",
     "status": "completed"
    },
    "tags": []
   },
   "source": [
    "majority of passenger having fare price less than 100"
   ]
  },
  {
   "cell_type": "code",
   "execution_count": 34,
   "id": "8dc2b11b",
   "metadata": {
    "execution": {
     "iopub.execute_input": "2021-07-09T08:20:17.735982Z",
     "iopub.status.busy": "2021-07-09T08:20:17.734716Z",
     "iopub.status.idle": "2021-07-09T08:20:17.747032Z",
     "shell.execute_reply": "2021-07-09T08:20:17.746298Z",
     "shell.execute_reply.started": "2021-07-09T08:10:26.023265Z"
    },
    "papermill": {
     "duration": 0.105298,
     "end_time": "2021-07-09T08:20:17.747178",
     "exception": false,
     "start_time": "2021-07-09T08:20:17.641880",
     "status": "completed"
    },
    "tags": []
   },
   "outputs": [
    {
     "data": {
      "text/plain": [
       "Pclass  Sex   \n",
       "1       female    106.125798\n",
       "        male       67.226127\n",
       "2       female     21.970121\n",
       "        male       19.741782\n",
       "3       female     16.118810\n",
       "        male       12.661633\n",
       "Name: Fare, dtype: float64"
      ]
     },
     "execution_count": 34,
     "metadata": {},
     "output_type": "execute_result"
    }
   ],
   "source": [
    "train_titanic.groupby(['Pclass','Sex'])['Fare'].mean()"
   ]
  },
  {
   "cell_type": "code",
   "execution_count": 35,
   "id": "bb237470",
   "metadata": {
    "execution": {
     "iopub.execute_input": "2021-07-09T08:20:17.969545Z",
     "iopub.status.busy": "2021-07-09T08:20:17.930600Z",
     "iopub.status.idle": "2021-07-09T08:20:18.180593Z",
     "shell.execute_reply": "2021-07-09T08:20:18.181085Z",
     "shell.execute_reply.started": "2021-07-09T08:10:26.032874Z"
    },
    "papermill": {
     "duration": 0.344672,
     "end_time": "2021-07-09T08:20:18.181265",
     "exception": false,
     "start_time": "2021-07-09T08:20:17.836593",
     "status": "completed"
    },
    "tags": []
   },
   "outputs": [
    {
     "data": {
      "text/plain": [
       "<AxesSubplot:xlabel='Pclass,Sex'>"
      ]
     },
     "execution_count": 35,
     "metadata": {},
     "output_type": "execute_result"
    },
    {
     "data": {
      "image/png": "[encoded data removed]",
      "text/plain": [
       "<Figure size 576x576 with 1 Axes>"
      ]
     },
     "metadata": {},
     "output_type": "display_data"
    }
   ],
   "source": [
    "train_titanic.groupby(['Pclass','Sex'])['Fare'].mean().plot(kind='bar')"
   ]
  },
  {
   "cell_type": "markdown",
   "id": "e20fb99d",
   "metadata": {
    "papermill": {
     "duration": 0.09353,
     "end_time": "2021-07-09T08:20:18.366708",
     "exception": false,
     "start_time": "2021-07-09T08:20:18.273178",
     "status": "completed"
    },
    "tags": []
   },
   "source": [
    "conclusion :- female from class 1 having fare price much greater than others"
   ]
  },
  {
   "cell_type": "markdown",
   "id": "12227d31",
   "metadata": {
    "papermill": {
     "duration": 0.093434,
     "end_time": "2021-07-09T08:20:18.550842",
     "exception": false,
     "start_time": "2021-07-09T08:20:18.457408",
     "status": "completed"
    },
    "tags": []
   },
   "source": [
    "# 4.Data preprocessing or Data Cleaning"
   ]
  },
  {
   "cell_type": "code",
   "execution_count": 36,
   "id": "f98cce51",
   "metadata": {
    "execution": {
     "iopub.execute_input": "2021-07-09T08:20:18.746743Z",
     "iopub.status.busy": "2021-07-09T08:20:18.745940Z",
     "iopub.status.idle": "2021-07-09T08:20:18.751603Z",
     "shell.execute_reply": "2021-07-09T08:20:18.750910Z",
     "shell.execute_reply.started": "2021-07-09T08:10:26.192033Z"
    },
    "papermill": {
     "duration": 0.106423,
     "end_time": "2021-07-09T08:20:18.751751",
     "exception": false,
     "start_time": "2021-07-09T08:20:18.645328",
     "status": "completed"
    },
    "tags": []
   },
   "outputs": [
    {
     "data": {
      "text/plain": [
       "PassengerId      0\n",
       "Survived         0\n",
       "Pclass           0\n",
       "Name             0\n",
       "Sex              0\n",
       "Age            177\n",
       "SibSp            0\n",
       "Parch            0\n",
       "Ticket           0\n",
       "Fare             0\n",
       "Cabin          687\n",
       "Embarked         0\n",
       "dtype: int64"
      ]
     },
     "execution_count": 36,
     "metadata": {},
     "output_type": "execute_result"
    }
   ],
   "source": [
    "train_titanic.isnull().sum()"
   ]
  },
  {
   "cell_type": "markdown",
   "id": "7d511270",
   "metadata": {
    "papermill": {
     "duration": 0.089061,
     "end_time": "2021-07-09T08:20:18.934728",
     "exception": false,
     "start_time": "2021-07-09T08:20:18.845667",
     "status": "completed"
    },
    "tags": []
   },
   "source": [
    "### A.Handling missing values of Age "
   ]
  },
  {
   "cell_type": "code",
   "execution_count": null,
   "id": "47c8a94d",
   "metadata": {
    "papermill": {
     "duration": 0.094685,
     "end_time": "2021-07-09T08:20:19.122513",
     "exception": false,
     "start_time": "2021-07-09T08:20:19.027828",
     "status": "completed"
    },
    "tags": []
   },
   "outputs": [],
   "source": []
  },
  {
   "cell_type": "code",
   "execution_count": 37,
   "id": "67df6278",
   "metadata": {
    "execution": {
     "iopub.execute_input": "2021-07-09T08:20:19.308947Z",
     "iopub.status.busy": "2021-07-09T08:20:19.307955Z",
     "iopub.status.idle": "2021-07-09T08:20:19.311320Z",
     "shell.execute_reply": "2021-07-09T08:20:19.310766Z",
     "shell.execute_reply.started": "2021-07-09T08:10:26.200433Z"
    },
    "papermill": {
     "duration": 0.099253,
     "end_time": "2021-07-09T08:20:19.311488",
     "exception": false,
     "start_time": "2021-07-09T08:20:19.212235",
     "status": "completed"
    },
    "tags": []
   },
   "outputs": [],
   "source": [
    "# for age feature we calculate mean of age then fill missing value with them\n",
    "train_titanic['Age'].fillna(train_titanic.Age.mean(), inplace=True)"
   ]
  },
  {
   "cell_type": "code",
   "execution_count": 38,
   "id": "a6a6ce95",
   "metadata": {
    "execution": {
     "iopub.execute_input": "2021-07-09T08:20:19.500763Z",
     "iopub.status.busy": "2021-07-09T08:20:19.499763Z",
     "iopub.status.idle": "2021-07-09T08:20:19.504456Z",
     "shell.execute_reply": "2021-07-09T08:20:19.503785Z",
     "shell.execute_reply.started": "2021-07-09T08:10:26.213057Z"
    },
    "papermill": {
     "duration": 0.102734,
     "end_time": "2021-07-09T08:20:19.504608",
     "exception": false,
     "start_time": "2021-07-09T08:20:19.401874",
     "status": "completed"
    },
    "tags": []
   },
   "outputs": [
    {
     "data": {
      "text/plain": [
       "PassengerId      0\n",
       "Survived         0\n",
       "Pclass           0\n",
       "Name             0\n",
       "Sex              0\n",
       "Age              0\n",
       "SibSp            0\n",
       "Parch            0\n",
       "Ticket           0\n",
       "Fare             0\n",
       "Cabin          687\n",
       "Embarked         0\n",
       "dtype: int64"
      ]
     },
     "execution_count": 38,
     "metadata": {},
     "output_type": "execute_result"
    }
   ],
   "source": [
    "train_titanic.isnull().sum()"
   ]
  },
  {
   "cell_type": "markdown",
   "id": "92c56003",
   "metadata": {
    "papermill": {
     "duration": 0.089932,
     "end_time": "2021-07-09T08:20:19.686895",
     "exception": false,
     "start_time": "2021-07-09T08:20:19.596963",
     "status": "completed"
    },
    "tags": []
   },
   "source": [
    "### B.Feature Engineering"
   ]
  },
  {
   "cell_type": "code",
   "execution_count": 39,
   "id": "8754a763",
   "metadata": {
    "execution": {
     "iopub.execute_input": "2021-07-09T08:20:19.888754Z",
     "iopub.status.busy": "2021-07-09T08:20:19.887292Z",
     "iopub.status.idle": "2021-07-09T08:20:19.894784Z",
     "shell.execute_reply": "2021-07-09T08:20:19.894242Z",
     "shell.execute_reply.started": "2021-07-09T08:10:26.229822Z"
    },
    "papermill": {
     "duration": 0.11481,
     "end_time": "2021-07-09T08:20:19.894930",
     "exception": false,
     "start_time": "2021-07-09T08:20:19.780120",
     "status": "completed"
    },
    "tags": []
   },
   "outputs": [
    {
     "data": {
      "text/html": [
       "<div>\n",
       "<style scoped>\n",
       "    .dataframe tbody tr th:only-of-type {\n",
       "        vertical-align: middle;\n",
       "    }\n",
       "\n",
       "    .dataframe tbody tr th {\n",
       "        vertical-align: top;\n",
       "    }\n",
       "\n",
       "    .dataframe thead th {\n",
       "        text-align: right;\n",
       "    }\n",
       "</style>\n",
       "<table border=\"1\" class=\"dataframe\">\n",
       "  <thead>\n",
       "    <tr style=\"text-align: right;\">\n",
       "      <th></th>\n",
       "      <th>Survived</th>\n",
       "      <th>Pclass</th>\n",
       "      <th>Sex</th>\n",
       "      <th>Age</th>\n",
       "      <th>SibSp</th>\n",
       "      <th>Parch</th>\n",
       "      <th>Fare</th>\n",
       "      <th>Embarked</th>\n",
       "    </tr>\n",
       "  </thead>\n",
       "  <tbody>\n",
       "    <tr>\n",
       "      <th>0</th>\n",
       "      <td>0</td>\n",
       "      <td>3</td>\n",
       "      <td>male</td>\n",
       "      <td>22.0</td>\n",
       "      <td>1</td>\n",
       "      <td>0</td>\n",
       "      <td>7.2500</td>\n",
       "      <td>S</td>\n",
       "    </tr>\n",
       "    <tr>\n",
       "      <th>1</th>\n",
       "      <td>1</td>\n",
       "      <td>1</td>\n",
       "      <td>female</td>\n",
       "      <td>38.0</td>\n",
       "      <td>1</td>\n",
       "      <td>0</td>\n",
       "      <td>71.2833</td>\n",
       "      <td>C</td>\n",
       "    </tr>\n",
       "    <tr>\n",
       "      <th>2</th>\n",
       "      <td>1</td>\n",
       "      <td>3</td>\n",
       "      <td>female</td>\n",
       "      <td>26.0</td>\n",
       "      <td>0</td>\n",
       "      <td>0</td>\n",
       "      <td>7.9250</td>\n",
       "      <td>S</td>\n",
       "    </tr>\n",
       "    <tr>\n",
       "      <th>3</th>\n",
       "      <td>1</td>\n",
       "      <td>1</td>\n",
       "      <td>female</td>\n",
       "      <td>35.0</td>\n",
       "      <td>1</td>\n",
       "      <td>0</td>\n",
       "      <td>53.1000</td>\n",
       "      <td>S</td>\n",
       "    </tr>\n",
       "    <tr>\n",
       "      <th>4</th>\n",
       "      <td>0</td>\n",
       "      <td>3</td>\n",
       "      <td>male</td>\n",
       "      <td>35.0</td>\n",
       "      <td>0</td>\n",
       "      <td>0</td>\n",
       "      <td>8.0500</td>\n",
       "      <td>S</td>\n",
       "    </tr>\n",
       "  </tbody>\n",
       "</table>\n",
       "</div>"
      ],
      "text/plain": [
       "   Survived  Pclass     Sex   Age  SibSp  Parch     Fare Embarked\n",
       "0         0       3    male  22.0      1      0   7.2500        S\n",
       "1         1       1  female  38.0      1      0  71.2833        C\n",
       "2         1       3  female  26.0      0      0   7.9250        S\n",
       "3         1       1  female  35.0      1      0  53.1000        S\n",
       "4         0       3    male  35.0      0      0   8.0500        S"
      ]
     },
     "execution_count": 39,
     "metadata": {},
     "output_type": "execute_result"
    }
   ],
   "source": [
    "col_drop =[\"PassengerId\",\"Ticket\",\"Cabin\",\"Name\"]\n",
    "train_titanic.drop(col_drop,axis=1, inplace=True)\n",
    "train_titanic.head()"
   ]
  },
  {
   "cell_type": "markdown",
   "id": "aed2e280",
   "metadata": {
    "papermill": {
     "duration": 0.091666,
     "end_time": "2021-07-09T08:20:20.079038",
     "exception": false,
     "start_time": "2021-07-09T08:20:19.987372",
     "status": "completed"
    },
    "tags": []
   },
   "source": [
    "### C. One Hot Encoding"
   ]
  },
  {
   "cell_type": "code",
   "execution_count": 40,
   "id": "362a0355",
   "metadata": {
    "execution": {
     "iopub.execute_input": "2021-07-09T08:20:20.274758Z",
     "iopub.status.busy": "2021-07-09T08:20:20.273029Z",
     "iopub.status.idle": "2021-07-09T08:20:20.275705Z",
     "shell.execute_reply": "2021-07-09T08:20:20.276246Z",
     "shell.execute_reply.started": "2021-07-09T08:10:26.250729Z"
    },
    "papermill": {
     "duration": 0.10438,
     "end_time": "2021-07-09T08:20:20.276458",
     "exception": false,
     "start_time": "2021-07-09T08:20:20.172078",
     "status": "completed"
    },
    "tags": []
   },
   "outputs": [],
   "source": [
    "label = LabelEncoder()\n",
    "train_titanic['Embarked']=label.fit_transform(train_titanic['Embarked'])\n"
   ]
  },
  {
   "cell_type": "code",
   "execution_count": 41,
   "id": "e82cc208",
   "metadata": {
    "execution": {
     "iopub.execute_input": "2021-07-09T08:20:20.469786Z",
     "iopub.status.busy": "2021-07-09T08:20:20.469059Z",
     "iopub.status.idle": "2021-07-09T08:20:20.471138Z",
     "shell.execute_reply": "2021-07-09T08:20:20.471646Z",
     "shell.execute_reply.started": "2021-07-09T08:10:26.265064Z"
    },
    "papermill": {
     "duration": 0.103052,
     "end_time": "2021-07-09T08:20:20.471832",
     "exception": false,
     "start_time": "2021-07-09T08:20:20.368780",
     "status": "completed"
    },
    "tags": []
   },
   "outputs": [],
   "source": [
    "train_titanic['Sex']=label.fit_transform(train_titanic['Sex'])"
   ]
  },
  {
   "cell_type": "code",
   "execution_count": 42,
   "id": "0147aba4",
   "metadata": {
    "execution": {
     "iopub.execute_input": "2021-07-09T08:20:20.661809Z",
     "iopub.status.busy": "2021-07-09T08:20:20.661099Z",
     "iopub.status.idle": "2021-07-09T08:20:20.675648Z",
     "shell.execute_reply": "2021-07-09T08:20:20.676374Z",
     "shell.execute_reply.started": "2021-07-09T08:10:26.278712Z"
    },
    "papermill": {
     "duration": 0.114331,
     "end_time": "2021-07-09T08:20:20.676734",
     "exception": false,
     "start_time": "2021-07-09T08:20:20.562403",
     "status": "completed"
    },
    "tags": []
   },
   "outputs": [
    {
     "data": {
      "text/html": [
       "<div>\n",
       "<style scoped>\n",
       "    .dataframe tbody tr th:only-of-type {\n",
       "        vertical-align: middle;\n",
       "    }\n",
       "\n",
       "    .dataframe tbody tr th {\n",
       "        vertical-align: top;\n",
       "    }\n",
       "\n",
       "    .dataframe thead th {\n",
       "        text-align: right;\n",
       "    }\n",
       "</style>\n",
       "<table border=\"1\" class=\"dataframe\">\n",
       "  <thead>\n",
       "    <tr style=\"text-align: right;\">\n",
       "      <th></th>\n",
       "      <th>Survived</th>\n",
       "      <th>Pclass</th>\n",
       "      <th>Sex</th>\n",
       "      <th>Age</th>\n",
       "      <th>SibSp</th>\n",
       "      <th>Parch</th>\n",
       "      <th>Fare</th>\n",
       "      <th>Embarked</th>\n",
       "    </tr>\n",
       "  </thead>\n",
       "  <tbody>\n",
       "    <tr>\n",
       "      <th>0</th>\n",
       "      <td>0</td>\n",
       "      <td>3</td>\n",
       "      <td>1</td>\n",
       "      <td>22.0</td>\n",
       "      <td>1</td>\n",
       "      <td>0</td>\n",
       "      <td>7.2500</td>\n",
       "      <td>2</td>\n",
       "    </tr>\n",
       "    <tr>\n",
       "      <th>1</th>\n",
       "      <td>1</td>\n",
       "      <td>1</td>\n",
       "      <td>0</td>\n",
       "      <td>38.0</td>\n",
       "      <td>1</td>\n",
       "      <td>0</td>\n",
       "      <td>71.2833</td>\n",
       "      <td>0</td>\n",
       "    </tr>\n",
       "    <tr>\n",
       "      <th>2</th>\n",
       "      <td>1</td>\n",
       "      <td>3</td>\n",
       "      <td>0</td>\n",
       "      <td>26.0</td>\n",
       "      <td>0</td>\n",
       "      <td>0</td>\n",
       "      <td>7.9250</td>\n",
       "      <td>2</td>\n",
       "    </tr>\n",
       "    <tr>\n",
       "      <th>3</th>\n",
       "      <td>1</td>\n",
       "      <td>1</td>\n",
       "      <td>0</td>\n",
       "      <td>35.0</td>\n",
       "      <td>1</td>\n",
       "      <td>0</td>\n",
       "      <td>53.1000</td>\n",
       "      <td>2</td>\n",
       "    </tr>\n",
       "    <tr>\n",
       "      <th>4</th>\n",
       "      <td>0</td>\n",
       "      <td>3</td>\n",
       "      <td>1</td>\n",
       "      <td>35.0</td>\n",
       "      <td>0</td>\n",
       "      <td>0</td>\n",
       "      <td>8.0500</td>\n",
       "      <td>2</td>\n",
       "    </tr>\n",
       "  </tbody>\n",
       "</table>\n",
       "</div>"
      ],
      "text/plain": [
       "   Survived  Pclass  Sex   Age  SibSp  Parch     Fare  Embarked\n",
       "0         0       3    1  22.0      1      0   7.2500         2\n",
       "1         1       1    0  38.0      1      0  71.2833         0\n",
       "2         1       3    0  26.0      0      0   7.9250         2\n",
       "3         1       1    0  35.0      1      0  53.1000         2\n",
       "4         0       3    1  35.0      0      0   8.0500         2"
      ]
     },
     "execution_count": 42,
     "metadata": {},
     "output_type": "execute_result"
    }
   ],
   "source": [
    "train_titanic.head()"
   ]
  },
  {
   "cell_type": "markdown",
   "id": "04c6bb2c",
   "metadata": {
    "papermill": {
     "duration": 0.094955,
     "end_time": "2021-07-09T08:20:20.866123",
     "exception": false,
     "start_time": "2021-07-09T08:20:20.771168",
     "status": "completed"
    },
    "tags": []
   },
   "source": [
    "# 5.Building Machine Learning Model"
   ]
  },
  {
   "cell_type": "code",
   "execution_count": 43,
   "id": "5ab94db3",
   "metadata": {
    "execution": {
     "iopub.execute_input": "2021-07-09T08:20:21.060982Z",
     "iopub.status.busy": "2021-07-09T08:20:21.060259Z",
     "iopub.status.idle": "2021-07-09T08:20:21.065862Z",
     "shell.execute_reply": "2021-07-09T08:20:21.066372Z",
     "shell.execute_reply.started": "2021-07-09T08:10:26.301887Z"
    },
    "papermill": {
     "duration": 0.107105,
     "end_time": "2021-07-09T08:20:21.066584",
     "exception": false,
     "start_time": "2021-07-09T08:20:20.959479",
     "status": "completed"
    },
    "tags": []
   },
   "outputs": [],
   "source": [
    "# Dependent(Y) and Independent Features(X)\n",
    "X = train_titanic.drop(\"Survived\",axis=1)\n",
    "y = train_titanic['Survived'] # Target Column"
   ]
  },
  {
   "cell_type": "code",
   "execution_count": 44,
   "id": "4c821eee",
   "metadata": {
    "execution": {
     "iopub.execute_input": "2021-07-09T08:20:21.268238Z",
     "iopub.status.busy": "2021-07-09T08:20:21.267154Z",
     "iopub.status.idle": "2021-07-09T08:20:21.278157Z",
     "shell.execute_reply": "2021-07-09T08:20:21.279127Z",
     "shell.execute_reply.started": "2021-07-09T08:10:26.309323Z"
    },
    "papermill": {
     "duration": 0.118602,
     "end_time": "2021-07-09T08:20:21.279426",
     "exception": false,
     "start_time": "2021-07-09T08:20:21.160824",
     "status": "completed"
    },
    "tags": []
   },
   "outputs": [],
   "source": [
    "X_train, X_test, Y_train, Y_test = train_test_split(X,y,test_size=0.2,random_state=42)"
   ]
  },
  {
   "cell_type": "markdown",
   "id": "6ed792fc",
   "metadata": {
    "papermill": {
     "duration": 0.092952,
     "end_time": "2021-07-09T08:20:21.476797",
     "exception": false,
     "start_time": "2021-07-09T08:20:21.383845",
     "status": "completed"
    },
    "tags": []
   },
   "source": [
    "### feature Importance"
   ]
  },
  {
   "cell_type": "code",
   "execution_count": 45,
   "id": "80717dab",
   "metadata": {
    "execution": {
     "iopub.execute_input": "2021-07-09T08:20:21.672329Z",
     "iopub.status.busy": "2021-07-09T08:20:21.671636Z",
     "iopub.status.idle": "2021-07-09T08:20:22.149421Z",
     "shell.execute_reply": "2021-07-09T08:20:22.149936Z",
     "shell.execute_reply.started": "2021-07-09T08:10:26.323686Z"
    },
    "papermill": {
     "duration": 0.5807,
     "end_time": "2021-07-09T08:20:22.150106",
     "exception": false,
     "start_time": "2021-07-09T08:20:21.569406",
     "status": "completed"
    },
    "tags": []
   },
   "outputs": [
    {
     "data": {
      "image/png": "[encoded data removed]",
      "text/plain": [
       "<Figure size 720x432 with 1 Axes>"
      ]
     },
     "metadata": {},
     "output_type": "display_data"
    }
   ],
   "source": [
    "model = RandomForestClassifier()\n",
    "plt.rcParams[\"figure.figsize\"] = (10,6)\n",
    "model.fit(X_train,Y_train)\n",
    "importance = pd.DataFrame({'feature':X_train.columns, 'importance': np.round(model.feature_importances_,3)})\n",
    "importance = importance.sort_values('importance', ascending=False).set_index('feature')\n",
    "importance.plot(kind='bar', rot=0)\n",
    "plt.show()"
   ]
  },
  {
   "cell_type": "code",
   "execution_count": 46,
   "id": "ef390286",
   "metadata": {
    "execution": {
     "iopub.execute_input": "2021-07-09T08:20:22.342812Z",
     "iopub.status.busy": "2021-07-09T08:20:22.342017Z",
     "iopub.status.idle": "2021-07-09T08:20:22.359558Z",
     "shell.execute_reply": "2021-07-09T08:20:22.358887Z",
     "shell.execute_reply.started": "2021-07-09T08:10:26.740986Z"
    },
    "papermill": {
     "duration": 0.119038,
     "end_time": "2021-07-09T08:20:22.359705",
     "exception": false,
     "start_time": "2021-07-09T08:20:22.240667",
     "status": "completed"
    },
    "tags": []
   },
   "outputs": [
    {
     "name": "stdout",
     "output_type": "stream",
     "text": [
      "Accuracy = 80.44692737430168\n"
     ]
    }
   ],
   "source": [
    "rand_y_pred = model.predict(X_test)\n",
    "rand_accuracy = accuracy_score(Y_test,rand_y_pred)*100\n",
    "print(\"Accuracy =\",rand_accuracy)"
   ]
  },
  {
   "cell_type": "markdown",
   "id": "900dd044",
   "metadata": {
    "papermill": {
     "duration": 0.096083,
     "end_time": "2021-07-09T08:20:22.550395",
     "exception": false,
     "start_time": "2021-07-09T08:20:22.454312",
     "status": "completed"
    },
    "tags": []
   },
   "source": [
    "## B.Logistic Regression"
   ]
  },
  {
   "cell_type": "code",
   "execution_count": 47,
   "id": "8a010e34",
   "metadata": {
    "execution": {
     "iopub.execute_input": "2021-07-09T08:20:22.738961Z",
     "iopub.status.busy": "2021-07-09T08:20:22.738264Z",
     "iopub.status.idle": "2021-07-09T08:20:22.787393Z",
     "shell.execute_reply": "2021-07-09T08:20:22.786819Z",
     "shell.execute_reply.started": "2021-07-09T08:10:26.767341Z"
    },
    "papermill": {
     "duration": 0.143133,
     "end_time": "2021-07-09T08:20:22.787545",
     "exception": false,
     "start_time": "2021-07-09T08:20:22.644412",
     "status": "completed"
    },
    "tags": []
   },
   "outputs": [
    {
     "name": "stdout",
     "output_type": "stream",
     "text": [
      "Accuracy = 81.00558659217877\n"
     ]
    }
   ],
   "source": [
    "model1 = LogisticRegression()\n",
    "model1.fit(X_train,Y_train)\n",
    "lr_predict = model1.predict(X_test)\n",
    "lr_accuracy = accuracy_score(Y_test,lr_predict)*100\n",
    "\n",
    "print(\"Accuracy =\",lr_accuracy)"
   ]
  },
  {
   "cell_type": "markdown",
   "id": "ec513d77",
   "metadata": {
    "papermill": {
     "duration": 0.091878,
     "end_time": "2021-07-09T08:20:22.971304",
     "exception": false,
     "start_time": "2021-07-09T08:20:22.879426",
     "status": "completed"
    },
    "tags": []
   },
   "source": [
    "## C.K-Neighbor Classifier"
   ]
  },
  {
   "cell_type": "code",
   "execution_count": 48,
   "id": "d7248321",
   "metadata": {
    "execution": {
     "iopub.execute_input": "2021-07-09T08:20:23.171933Z",
     "iopub.status.busy": "2021-07-09T08:20:23.166842Z",
     "iopub.status.idle": "2021-07-09T08:20:23.186297Z",
     "shell.execute_reply": "2021-07-09T08:20:23.186788Z",
     "shell.execute_reply.started": "2021-07-09T08:10:26.804308Z"
    },
    "papermill": {
     "duration": 0.121829,
     "end_time": "2021-07-09T08:20:23.186973",
     "exception": false,
     "start_time": "2021-07-09T08:20:23.065144",
     "status": "completed"
    },
    "tags": []
   },
   "outputs": [
    {
     "name": "stdout",
     "output_type": "stream",
     "text": [
      "Accuracy = 70.94972067039106\n"
     ]
    }
   ],
   "source": [
    "model3 = KNeighborsClassifier(5)\n",
    "model3.fit(X_train,Y_train)\n",
    "kNC_y_predict = model3.predict(X_test)\n",
    "knc_accuracy = accuracy_score(Y_test,kNC_y_predict)*100\n",
    "print(\"Accuracy =\",knc_accuracy)"
   ]
  },
  {
   "cell_type": "markdown",
   "id": "844a9262",
   "metadata": {
    "papermill": {
     "duration": 0.09454,
     "end_time": "2021-07-09T08:20:23.375386",
     "exception": false,
     "start_time": "2021-07-09T08:20:23.280846",
     "status": "completed"
    },
    "tags": []
   },
   "source": [
    "## D. Decision Tress Classifier"
   ]
  },
  {
   "cell_type": "code",
   "execution_count": 49,
   "id": "4b5a2326",
   "metadata": {
    "execution": {
     "iopub.execute_input": "2021-07-09T08:20:23.577585Z",
     "iopub.status.busy": "2021-07-09T08:20:23.576833Z",
     "iopub.status.idle": "2021-07-09T08:20:23.586017Z",
     "shell.execute_reply": "2021-07-09T08:20:23.586571Z",
     "shell.execute_reply.started": "2021-07-09T08:10:26.822597Z"
    },
    "papermill": {
     "duration": 0.11262,
     "end_time": "2021-07-09T08:20:23.586766",
     "exception": false,
     "start_time": "2021-07-09T08:20:23.474146",
     "status": "completed"
    },
    "tags": []
   },
   "outputs": [
    {
     "name": "stdout",
     "output_type": "stream",
     "text": [
      "Accuracy = 77.09497206703911\n"
     ]
    }
   ],
   "source": [
    "model4 = tree.DecisionTreeClassifier()\n",
    "model4 = model4.fit(X_train,Y_train)\n",
    "dec_predict = model4.predict(X_test)\n",
    "dec_accuracy = accuracy_score(Y_test,dec_predict)*100\n",
    "print(\"Accuracy =\", dec_accuracy)"
   ]
  },
  {
   "cell_type": "markdown",
   "id": "73834f47",
   "metadata": {
    "papermill": {
     "duration": 0.093759,
     "end_time": "2021-07-09T08:20:23.776538",
     "exception": false,
     "start_time": "2021-07-09T08:20:23.682779",
     "status": "completed"
    },
    "tags": []
   },
   "source": [
    "## E.Support Vector Machine"
   ]
  },
  {
   "cell_type": "code",
   "execution_count": 50,
   "id": "60a9df54",
   "metadata": {
    "execution": {
     "iopub.execute_input": "2021-07-09T08:20:23.970016Z",
     "iopub.status.busy": "2021-07-09T08:20:23.968898Z",
     "iopub.status.idle": "2021-07-09T08:20:24.002849Z",
     "shell.execute_reply": "2021-07-09T08:20:24.002129Z",
     "shell.execute_reply.started": "2021-07-09T08:10:26.837167Z"
    },
    "papermill": {
     "duration": 0.129425,
     "end_time": "2021-07-09T08:20:24.003008",
     "exception": false,
     "start_time": "2021-07-09T08:20:23.873583",
     "status": "completed"
    },
    "tags": []
   },
   "outputs": [
    {
     "name": "stdout",
     "output_type": "stream",
     "text": [
      "Accuracy = 65.92178770949721\n"
     ]
    }
   ],
   "source": [
    "model5 = svm.SVC()\n",
    "model5.fit(X_train,Y_train)\n",
    "svm_pred = model5.predict(X_test)\n",
    "svm_accuracy = accuracy_score(Y_test,svm_pred)*100\n",
    "print(\"Accuracy =\",svm_accuracy)"
   ]
  },
  {
   "cell_type": "markdown",
   "id": "a123bde5",
   "metadata": {
    "papermill": {
     "duration": 0.09674,
     "end_time": "2021-07-09T08:20:24.194306",
     "exception": false,
     "start_time": "2021-07-09T08:20:24.097566",
     "status": "completed"
    },
    "tags": []
   },
   "source": [
    "## Accuracy for all classifier"
   ]
  },
  {
   "cell_type": "code",
   "execution_count": 51,
   "id": "b9d81a33",
   "metadata": {
    "execution": {
     "iopub.execute_input": "2021-07-09T08:20:24.387700Z",
     "iopub.status.busy": "2021-07-09T08:20:24.387020Z",
     "iopub.status.idle": "2021-07-09T08:20:24.391801Z",
     "shell.execute_reply": "2021-07-09T08:20:24.392541Z",
     "shell.execute_reply.started": "2021-07-09T08:10:26.890256Z"
    },
    "papermill": {
     "duration": 0.105398,
     "end_time": "2021-07-09T08:20:24.392791",
     "exception": false,
     "start_time": "2021-07-09T08:20:24.287393",
     "status": "completed"
    },
    "tags": []
   },
   "outputs": [
    {
     "name": "stdout",
     "output_type": "stream",
     "text": [
      "Accuracy of Random Forest Classifier = 80.44692737430168\n",
      "Accuracy of Logistic Regressor = 81.00558659217877\n",
      "Accuracy of K-Neighbor Classifier = 70.94972067039106\n",
      "Accuracy of Decision Tree Classifier =  77.09497206703911\n",
      "Accuracy of Support Vector Machine Classifier =  65.92178770949721\n"
     ]
    }
   ],
   "source": [
    "print(\"Accuracy of Random Forest Classifier =\",rand_accuracy)\n",
    "print(\"Accuracy of Logistic Regressor =\",lr_accuracy)\n",
    "print(\"Accuracy of K-Neighbor Classifier =\",knc_accuracy)\n",
    "print(\"Accuracy of Decision Tree Classifier = \",dec_accuracy)\n",
    "print(\"Accuracy of Support Vector Machine Classifier = \",svm_accuracy)"
   ]
  },
  {
   "cell_type": "markdown",
   "id": "83dd80f8",
   "metadata": {
    "papermill": {
     "duration": 0.094476,
     "end_time": "2021-07-09T08:20:24.585693",
     "exception": false,
     "start_time": "2021-07-09T08:20:24.491217",
     "status": "completed"
    },
    "tags": []
   },
   "source": [
    "Maximum Accuracy Score with random Forest classifier on test set"
   ]
  },
  {
   "cell_type": "markdown",
   "id": "36c2a238",
   "metadata": {
    "papermill": {
     "duration": 0.097874,
     "end_time": "2021-07-09T08:20:24.778128",
     "exception": false,
     "start_time": "2021-07-09T08:20:24.680254",
     "status": "completed"
    },
    "tags": []
   },
   "source": [
    "#  Making Prediction for Test.csv"
   ]
  },
  {
   "cell_type": "code",
   "execution_count": 52,
   "id": "a9bba2ab",
   "metadata": {
    "execution": {
     "iopub.execute_input": "2021-07-09T08:20:24.974538Z",
     "iopub.status.busy": "2021-07-09T08:20:24.973686Z",
     "iopub.status.idle": "2021-07-09T08:20:25.003068Z",
     "shell.execute_reply": "2021-07-09T08:20:25.002534Z",
     "shell.execute_reply.started": "2021-07-09T08:10:26.900306Z"
    },
    "papermill": {
     "duration": 0.127792,
     "end_time": "2021-07-09T08:20:25.003231",
     "exception": false,
     "start_time": "2021-07-09T08:20:24.875439",
     "status": "completed"
    },
    "tags": []
   },
   "outputs": [
    {
     "data": {
      "text/html": [
       "<div>\n",
       "<style scoped>\n",
       "    .dataframe tbody tr th:only-of-type {\n",
       "        vertical-align: middle;\n",
       "    }\n",
       "\n",
       "    .dataframe tbody tr th {\n",
       "        vertical-align: top;\n",
       "    }\n",
       "\n",
       "    .dataframe thead th {\n",
       "        text-align: right;\n",
       "    }\n",
       "</style>\n",
       "<table border=\"1\" class=\"dataframe\">\n",
       "  <thead>\n",
       "    <tr style=\"text-align: right;\">\n",
       "      <th></th>\n",
       "      <th>PassengerId</th>\n",
       "      <th>Pclass</th>\n",
       "      <th>Name</th>\n",
       "      <th>Sex</th>\n",
       "      <th>Age</th>\n",
       "      <th>SibSp</th>\n",
       "      <th>Parch</th>\n",
       "      <th>Ticket</th>\n",
       "      <th>Fare</th>\n",
       "      <th>Cabin</th>\n",
       "      <th>Embarked</th>\n",
       "    </tr>\n",
       "  </thead>\n",
       "  <tbody>\n",
       "    <tr>\n",
       "      <th>0</th>\n",
       "      <td>892</td>\n",
       "      <td>3</td>\n",
       "      <td>Kelly, Mr. James</td>\n",
       "      <td>male</td>\n",
       "      <td>34.5</td>\n",
       "      <td>0</td>\n",
       "      <td>0</td>\n",
       "      <td>330911</td>\n",
       "      <td>7.8292</td>\n",
       "      <td>NaN</td>\n",
       "      <td>Q</td>\n",
       "    </tr>\n",
       "    <tr>\n",
       "      <th>1</th>\n",
       "      <td>893</td>\n",
       "      <td>3</td>\n",
       "      <td>Wilkes, Mrs. James (Ellen Needs)</td>\n",
       "      <td>female</td>\n",
       "      <td>47.0</td>\n",
       "      <td>1</td>\n",
       "      <td>0</td>\n",
       "      <td>363272</td>\n",
       "      <td>7.0000</td>\n",
       "      <td>NaN</td>\n",
       "      <td>S</td>\n",
       "    </tr>\n",
       "    <tr>\n",
       "      <th>2</th>\n",
       "      <td>894</td>\n",
       "      <td>2</td>\n",
       "      <td>Myles, Mr. Thomas Francis</td>\n",
       "      <td>male</td>\n",
       "      <td>62.0</td>\n",
       "      <td>0</td>\n",
       "      <td>0</td>\n",
       "      <td>240276</td>\n",
       "      <td>9.6875</td>\n",
       "      <td>NaN</td>\n",
       "      <td>Q</td>\n",
       "    </tr>\n",
       "    <tr>\n",
       "      <th>3</th>\n",
       "      <td>895</td>\n",
       "      <td>3</td>\n",
       "      <td>Wirz, Mr. Albert</td>\n",
       "      <td>male</td>\n",
       "      <td>27.0</td>\n",
       "      <td>0</td>\n",
       "      <td>0</td>\n",
       "      <td>315154</td>\n",
       "      <td>8.6625</td>\n",
       "      <td>NaN</td>\n",
       "      <td>S</td>\n",
       "    </tr>\n",
       "    <tr>\n",
       "      <th>4</th>\n",
       "      <td>896</td>\n",
       "      <td>3</td>\n",
       "      <td>Hirvonen, Mrs. Alexander (Helga E Lindqvist)</td>\n",
       "      <td>female</td>\n",
       "      <td>22.0</td>\n",
       "      <td>1</td>\n",
       "      <td>1</td>\n",
       "      <td>3101298</td>\n",
       "      <td>12.2875</td>\n",
       "      <td>NaN</td>\n",
       "      <td>S</td>\n",
       "    </tr>\n",
       "    <tr>\n",
       "      <th>5</th>\n",
       "      <td>897</td>\n",
       "      <td>3</td>\n",
       "      <td>Svensson, Mr. Johan Cervin</td>\n",
       "      <td>male</td>\n",
       "      <td>14.0</td>\n",
       "      <td>0</td>\n",
       "      <td>0</td>\n",
       "      <td>7538</td>\n",
       "      <td>9.2250</td>\n",
       "      <td>NaN</td>\n",
       "      <td>S</td>\n",
       "    </tr>\n",
       "    <tr>\n",
       "      <th>6</th>\n",
       "      <td>898</td>\n",
       "      <td>3</td>\n",
       "      <td>Connolly, Miss. Kate</td>\n",
       "      <td>female</td>\n",
       "      <td>30.0</td>\n",
       "      <td>0</td>\n",
       "      <td>0</td>\n",
       "      <td>330972</td>\n",
       "      <td>7.6292</td>\n",
       "      <td>NaN</td>\n",
       "      <td>Q</td>\n",
       "    </tr>\n",
       "    <tr>\n",
       "      <th>7</th>\n",
       "      <td>899</td>\n",
       "      <td>2</td>\n",
       "      <td>Caldwell, Mr. Albert Francis</td>\n",
       "      <td>male</td>\n",
       "      <td>26.0</td>\n",
       "      <td>1</td>\n",
       "      <td>1</td>\n",
       "      <td>248738</td>\n",
       "      <td>29.0000</td>\n",
       "      <td>NaN</td>\n",
       "      <td>S</td>\n",
       "    </tr>\n",
       "    <tr>\n",
       "      <th>8</th>\n",
       "      <td>900</td>\n",
       "      <td>3</td>\n",
       "      <td>Abrahim, Mrs. Joseph (Sophie Halaut Easu)</td>\n",
       "      <td>female</td>\n",
       "      <td>18.0</td>\n",
       "      <td>0</td>\n",
       "      <td>0</td>\n",
       "      <td>2657</td>\n",
       "      <td>7.2292</td>\n",
       "      <td>NaN</td>\n",
       "      <td>C</td>\n",
       "    </tr>\n",
       "    <tr>\n",
       "      <th>9</th>\n",
       "      <td>901</td>\n",
       "      <td>3</td>\n",
       "      <td>Davies, Mr. John Samuel</td>\n",
       "      <td>male</td>\n",
       "      <td>21.0</td>\n",
       "      <td>2</td>\n",
       "      <td>0</td>\n",
       "      <td>A/4 48871</td>\n",
       "      <td>24.1500</td>\n",
       "      <td>NaN</td>\n",
       "      <td>S</td>\n",
       "    </tr>\n",
       "  </tbody>\n",
       "</table>\n",
       "</div>"
      ],
      "text/plain": [
       "   PassengerId  Pclass                                          Name     Sex  \\\n",
       "0          892       3                              Kelly, Mr. James    male   \n",
       "1          893       3              Wilkes, Mrs. James (Ellen Needs)  female   \n",
       "2          894       2                     Myles, Mr. Thomas Francis    male   \n",
       "3          895       3                              Wirz, Mr. Albert    male   \n",
       "4          896       3  Hirvonen, Mrs. Alexander (Helga E Lindqvist)  female   \n",
       "5          897       3                    Svensson, Mr. Johan Cervin    male   \n",
       "6          898       3                          Connolly, Miss. Kate  female   \n",
       "7          899       2                  Caldwell, Mr. Albert Francis    male   \n",
       "8          900       3     Abrahim, Mrs. Joseph (Sophie Halaut Easu)  female   \n",
       "9          901       3                       Davies, Mr. John Samuel    male   \n",
       "\n",
       "    Age  SibSp  Parch     Ticket     Fare Cabin Embarked  \n",
       "0  34.5      0      0     330911   7.8292   NaN        Q  \n",
       "1  47.0      1      0     363272   7.0000   NaN        S  \n",
       "2  62.0      0      0     240276   9.6875   NaN        Q  \n",
       "3  27.0      0      0     315154   8.6625   NaN        S  \n",
       "4  22.0      1      1    3101298  12.2875   NaN        S  \n",
       "5  14.0      0      0       7538   9.2250   NaN        S  \n",
       "6  30.0      0      0     330972   7.6292   NaN        Q  \n",
       "7  26.0      1      1     248738  29.0000   NaN        S  \n",
       "8  18.0      0      0       2657   7.2292   NaN        C  \n",
       "9  21.0      2      0  A/4 48871  24.1500   NaN        S  "
      ]
     },
     "execution_count": 52,
     "metadata": {},
     "output_type": "execute_result"
    }
   ],
   "source": [
    "# Importing test.csv\n",
    "test_data = pd.read_csv('/kaggle/input/titanic/test.csv')\n",
    "test_data.head(10)\n"
   ]
  },
  {
   "cell_type": "code",
   "execution_count": 53,
   "id": "bf1e9d5e",
   "metadata": {
    "execution": {
     "iopub.execute_input": "2021-07-09T08:20:25.217385Z",
     "iopub.status.busy": "2021-07-09T08:20:25.207655Z",
     "iopub.status.idle": "2021-07-09T08:20:25.222134Z",
     "shell.execute_reply": "2021-07-09T08:20:25.221549Z",
     "shell.execute_reply.started": "2021-07-09T08:10:26.934712Z"
    },
    "papermill": {
     "duration": 0.122125,
     "end_time": "2021-07-09T08:20:25.222289",
     "exception": false,
     "start_time": "2021-07-09T08:20:25.100164",
     "status": "completed"
    },
    "tags": []
   },
   "outputs": [
    {
     "name": "stdout",
     "output_type": "stream",
     "text": [
      "<class 'pandas.core.frame.DataFrame'>\n",
      "RangeIndex: 418 entries, 0 to 417\n",
      "Data columns (total 11 columns):\n",
      " #   Column       Non-Null Count  Dtype  \n",
      "---  ------       --------------  -----  \n",
      " 0   PassengerId  418 non-null    int64  \n",
      " 1   Pclass       418 non-null    int64  \n",
      " 2   Name         418 non-null    object \n",
      " 3   Sex          418 non-null    object \n",
      " 4   Age          332 non-null    float64\n",
      " 5   SibSp        418 non-null    int64  \n",
      " 6   Parch        418 non-null    int64  \n",
      " 7   Ticket       418 non-null    object \n",
      " 8   Fare         417 non-null    float64\n",
      " 9   Cabin        91 non-null     object \n",
      " 10  Embarked     418 non-null    object \n",
      "dtypes: float64(2), int64(4), object(5)\n",
      "memory usage: 36.0+ KB\n"
     ]
    }
   ],
   "source": [
    "test_data.info()"
   ]
  },
  {
   "cell_type": "code",
   "execution_count": 54,
   "id": "712736c7",
   "metadata": {
    "execution": {
     "iopub.execute_input": "2021-07-09T08:20:25.422195Z",
     "iopub.status.busy": "2021-07-09T08:20:25.421538Z",
     "iopub.status.idle": "2021-07-09T08:20:25.426164Z",
     "shell.execute_reply": "2021-07-09T08:20:25.425522Z",
     "shell.execute_reply.started": "2021-07-09T08:10:26.950585Z"
    },
    "papermill": {
     "duration": 0.107037,
     "end_time": "2021-07-09T08:20:25.426304",
     "exception": false,
     "start_time": "2021-07-09T08:20:25.319267",
     "status": "completed"
    },
    "tags": []
   },
   "outputs": [
    {
     "data": {
      "text/plain": [
       "PassengerId      0\n",
       "Pclass           0\n",
       "Name             0\n",
       "Sex              0\n",
       "Age             86\n",
       "SibSp            0\n",
       "Parch            0\n",
       "Ticket           0\n",
       "Fare             1\n",
       "Cabin          327\n",
       "Embarked         0\n",
       "dtype: int64"
      ]
     },
     "execution_count": 54,
     "metadata": {},
     "output_type": "execute_result"
    }
   ],
   "source": [
    "test_data.isnull().sum()\n"
   ]
  },
  {
   "cell_type": "markdown",
   "id": "16a721a7",
   "metadata": {
    "papermill": {
     "duration": 0.093206,
     "end_time": "2021-07-09T08:20:25.613835",
     "exception": false,
     "start_time": "2021-07-09T08:20:25.520629",
     "status": "completed"
    },
    "tags": []
   },
   "source": [
    "## Data preprocessing for testing Data"
   ]
  },
  {
   "cell_type": "code",
   "execution_count": 55,
   "id": "69d381d9",
   "metadata": {
    "execution": {
     "iopub.execute_input": "2021-07-09T08:20:25.819920Z",
     "iopub.status.busy": "2021-07-09T08:20:25.819233Z",
     "iopub.status.idle": "2021-07-09T08:20:25.823318Z",
     "shell.execute_reply": "2021-07-09T08:20:25.822702Z",
     "shell.execute_reply.started": "2021-07-09T08:10:26.970252Z"
    },
    "papermill": {
     "duration": 0.114898,
     "end_time": "2021-07-09T08:20:25.823493",
     "exception": false,
     "start_time": "2021-07-09T08:20:25.708595",
     "status": "completed"
    },
    "tags": []
   },
   "outputs": [
    {
     "data": {
      "text/plain": [
       "PassengerId      0\n",
       "Pclass           0\n",
       "Name             0\n",
       "Sex              0\n",
       "Age              0\n",
       "SibSp            0\n",
       "Parch            0\n",
       "Ticket           0\n",
       "Fare             0\n",
       "Cabin          327\n",
       "Embarked         0\n",
       "dtype: int64"
      ]
     },
     "execution_count": 55,
     "metadata": {},
     "output_type": "execute_result"
    }
   ],
   "source": [
    "# Replacing missing values of age column\n",
    "mean = test_data[\"Age\"].mean()\n",
    "std = test_data[\"Age\"].std()\n",
    "rand_age = np.random.randint(mean-std, mean+std, size = 86)\n",
    "age_slice = test_data[\"Age\"].copy()\n",
    "age_slice[np.isnan(age_slice)] = rand_age\n",
    "test_data[\"Age\"] = age_slice\n",
    "\n",
    "# Replacing missing value of Fare column\n",
    "test_data['Fare'].fillna(test_data['Fare'].mean(), inplace=True)\n",
    "\n",
    "test_data.isnull().sum()\n"
   ]
  },
  {
   "cell_type": "code",
   "execution_count": 56,
   "id": "4bf76d30",
   "metadata": {
    "execution": {
     "iopub.execute_input": "2021-07-09T08:20:26.033153Z",
     "iopub.status.busy": "2021-07-09T08:20:26.032533Z",
     "iopub.status.idle": "2021-07-09T08:20:26.037160Z",
     "shell.execute_reply": "2021-07-09T08:20:26.036640Z",
     "shell.execute_reply.started": "2021-07-09T08:10:26.985837Z"
    },
    "papermill": {
     "duration": 0.119458,
     "end_time": "2021-07-09T08:20:26.037295",
     "exception": false,
     "start_time": "2021-07-09T08:20:25.917837",
     "status": "completed"
    },
    "tags": []
   },
   "outputs": [
    {
     "data": {
      "text/html": [
       "<div>\n",
       "<style scoped>\n",
       "    .dataframe tbody tr th:only-of-type {\n",
       "        vertical-align: middle;\n",
       "    }\n",
       "\n",
       "    .dataframe tbody tr th {\n",
       "        vertical-align: top;\n",
       "    }\n",
       "\n",
       "    .dataframe thead th {\n",
       "        text-align: right;\n",
       "    }\n",
       "</style>\n",
       "<table border=\"1\" class=\"dataframe\">\n",
       "  <thead>\n",
       "    <tr style=\"text-align: right;\">\n",
       "      <th></th>\n",
       "      <th>Pclass</th>\n",
       "      <th>Sex</th>\n",
       "      <th>Age</th>\n",
       "      <th>SibSp</th>\n",
       "      <th>Parch</th>\n",
       "      <th>Fare</th>\n",
       "      <th>Embarked</th>\n",
       "    </tr>\n",
       "  </thead>\n",
       "  <tbody>\n",
       "    <tr>\n",
       "      <th>0</th>\n",
       "      <td>3</td>\n",
       "      <td>male</td>\n",
       "      <td>34.5</td>\n",
       "      <td>0</td>\n",
       "      <td>0</td>\n",
       "      <td>7.8292</td>\n",
       "      <td>Q</td>\n",
       "    </tr>\n",
       "    <tr>\n",
       "      <th>1</th>\n",
       "      <td>3</td>\n",
       "      <td>female</td>\n",
       "      <td>47.0</td>\n",
       "      <td>1</td>\n",
       "      <td>0</td>\n",
       "      <td>7.0000</td>\n",
       "      <td>S</td>\n",
       "    </tr>\n",
       "    <tr>\n",
       "      <th>2</th>\n",
       "      <td>2</td>\n",
       "      <td>male</td>\n",
       "      <td>62.0</td>\n",
       "      <td>0</td>\n",
       "      <td>0</td>\n",
       "      <td>9.6875</td>\n",
       "      <td>Q</td>\n",
       "    </tr>\n",
       "    <tr>\n",
       "      <th>3</th>\n",
       "      <td>3</td>\n",
       "      <td>male</td>\n",
       "      <td>27.0</td>\n",
       "      <td>0</td>\n",
       "      <td>0</td>\n",
       "      <td>8.6625</td>\n",
       "      <td>S</td>\n",
       "    </tr>\n",
       "    <tr>\n",
       "      <th>4</th>\n",
       "      <td>3</td>\n",
       "      <td>female</td>\n",
       "      <td>22.0</td>\n",
       "      <td>1</td>\n",
       "      <td>1</td>\n",
       "      <td>12.2875</td>\n",
       "      <td>S</td>\n",
       "    </tr>\n",
       "    <tr>\n",
       "      <th>5</th>\n",
       "      <td>3</td>\n",
       "      <td>male</td>\n",
       "      <td>14.0</td>\n",
       "      <td>0</td>\n",
       "      <td>0</td>\n",
       "      <td>9.2250</td>\n",
       "      <td>S</td>\n",
       "    </tr>\n",
       "    <tr>\n",
       "      <th>6</th>\n",
       "      <td>3</td>\n",
       "      <td>female</td>\n",
       "      <td>30.0</td>\n",
       "      <td>0</td>\n",
       "      <td>0</td>\n",
       "      <td>7.6292</td>\n",
       "      <td>Q</td>\n",
       "    </tr>\n",
       "    <tr>\n",
       "      <th>7</th>\n",
       "      <td>2</td>\n",
       "      <td>male</td>\n",
       "      <td>26.0</td>\n",
       "      <td>1</td>\n",
       "      <td>1</td>\n",
       "      <td>29.0000</td>\n",
       "      <td>S</td>\n",
       "    </tr>\n",
       "    <tr>\n",
       "      <th>8</th>\n",
       "      <td>3</td>\n",
       "      <td>female</td>\n",
       "      <td>18.0</td>\n",
       "      <td>0</td>\n",
       "      <td>0</td>\n",
       "      <td>7.2292</td>\n",
       "      <td>C</td>\n",
       "    </tr>\n",
       "    <tr>\n",
       "      <th>9</th>\n",
       "      <td>3</td>\n",
       "      <td>male</td>\n",
       "      <td>21.0</td>\n",
       "      <td>2</td>\n",
       "      <td>0</td>\n",
       "      <td>24.1500</td>\n",
       "      <td>S</td>\n",
       "    </tr>\n",
       "  </tbody>\n",
       "</table>\n",
       "</div>"
      ],
      "text/plain": [
       "   Pclass     Sex   Age  SibSp  Parch     Fare Embarked\n",
       "0       3    male  34.5      0      0   7.8292        Q\n",
       "1       3  female  47.0      1      0   7.0000        S\n",
       "2       2    male  62.0      0      0   9.6875        Q\n",
       "3       3    male  27.0      0      0   8.6625        S\n",
       "4       3  female  22.0      1      1  12.2875        S\n",
       "5       3    male  14.0      0      0   9.2250        S\n",
       "6       3  female  30.0      0      0   7.6292        Q\n",
       "7       2    male  26.0      1      1  29.0000        S\n",
       "8       3  female  18.0      0      0   7.2292        C\n",
       "9       3    male  21.0      2      0  24.1500        S"
      ]
     },
     "execution_count": 56,
     "metadata": {},
     "output_type": "execute_result"
    }
   ],
   "source": [
    "col_to_drop = [\"PassengerId\", \"Ticket\", \"Cabin\", \"Name\"]\n",
    "test_data.drop(col_to_drop, axis=1, inplace=True)\n",
    "test_data.head(10)\n"
   ]
  },
  {
   "cell_type": "code",
   "execution_count": 57,
   "id": "b1138fa6",
   "metadata": {
    "execution": {
     "iopub.execute_input": "2021-07-09T08:20:26.247787Z",
     "iopub.status.busy": "2021-07-09T08:20:26.247105Z",
     "iopub.status.idle": "2021-07-09T08:20:26.251505Z",
     "shell.execute_reply": "2021-07-09T08:20:26.250793Z",
     "shell.execute_reply.started": "2021-07-09T08:10:27.007204Z"
    },
    "papermill": {
     "duration": 0.118197,
     "end_time": "2021-07-09T08:20:26.251681",
     "exception": false,
     "start_time": "2021-07-09T08:20:26.133484",
     "status": "completed"
    },
    "tags": []
   },
   "outputs": [
    {
     "data": {
      "text/html": [
       "<div>\n",
       "<style scoped>\n",
       "    .dataframe tbody tr th:only-of-type {\n",
       "        vertical-align: middle;\n",
       "    }\n",
       "\n",
       "    .dataframe tbody tr th {\n",
       "        vertical-align: top;\n",
       "    }\n",
       "\n",
       "    .dataframe thead th {\n",
       "        text-align: right;\n",
       "    }\n",
       "</style>\n",
       "<table border=\"1\" class=\"dataframe\">\n",
       "  <thead>\n",
       "    <tr style=\"text-align: right;\">\n",
       "      <th></th>\n",
       "      <th>Pclass</th>\n",
       "      <th>Sex</th>\n",
       "      <th>Age</th>\n",
       "      <th>SibSp</th>\n",
       "      <th>Parch</th>\n",
       "      <th>Fare</th>\n",
       "      <th>Embarked</th>\n",
       "    </tr>\n",
       "  </thead>\n",
       "  <tbody>\n",
       "    <tr>\n",
       "      <th>0</th>\n",
       "      <td>3</td>\n",
       "      <td>0</td>\n",
       "      <td>34.5</td>\n",
       "      <td>0</td>\n",
       "      <td>0</td>\n",
       "      <td>7.8292</td>\n",
       "      <td>2</td>\n",
       "    </tr>\n",
       "    <tr>\n",
       "      <th>1</th>\n",
       "      <td>3</td>\n",
       "      <td>1</td>\n",
       "      <td>47.0</td>\n",
       "      <td>1</td>\n",
       "      <td>0</td>\n",
       "      <td>7.0000</td>\n",
       "      <td>0</td>\n",
       "    </tr>\n",
       "    <tr>\n",
       "      <th>2</th>\n",
       "      <td>2</td>\n",
       "      <td>0</td>\n",
       "      <td>62.0</td>\n",
       "      <td>0</td>\n",
       "      <td>0</td>\n",
       "      <td>9.6875</td>\n",
       "      <td>2</td>\n",
       "    </tr>\n",
       "    <tr>\n",
       "      <th>3</th>\n",
       "      <td>3</td>\n",
       "      <td>0</td>\n",
       "      <td>27.0</td>\n",
       "      <td>0</td>\n",
       "      <td>0</td>\n",
       "      <td>8.6625</td>\n",
       "      <td>0</td>\n",
       "    </tr>\n",
       "    <tr>\n",
       "      <th>4</th>\n",
       "      <td>3</td>\n",
       "      <td>1</td>\n",
       "      <td>22.0</td>\n",
       "      <td>1</td>\n",
       "      <td>1</td>\n",
       "      <td>12.2875</td>\n",
       "      <td>0</td>\n",
       "    </tr>\n",
       "  </tbody>\n",
       "</table>\n",
       "</div>"
      ],
      "text/plain": [
       "   Pclass  Sex   Age  SibSp  Parch     Fare  Embarked\n",
       "0       3    0  34.5      0      0   7.8292         2\n",
       "1       3    1  47.0      1      0   7.0000         0\n",
       "2       2    0  62.0      0      0   9.6875         2\n",
       "3       3    0  27.0      0      0   8.6625         0\n",
       "4       3    1  22.0      1      1  12.2875         0"
      ]
     },
     "execution_count": 57,
     "metadata": {},
     "output_type": "execute_result"
    }
   ],
   "source": [
    "genders = {\"male\":0, \"female\":1}\n",
    "test_data[\"Sex\"] = test_data[\"Sex\"].map(genders)\n",
    "\n",
    "ports = {\"S\":0, \"C\":1, \"Q\":2}\n",
    "test_data[\"Embarked\"] = test_data[\"Embarked\"].map(ports)\n",
    "\n",
    "test_data.head()\n"
   ]
  },
  {
   "cell_type": "code",
   "execution_count": 58,
   "id": "32b11245",
   "metadata": {
    "execution": {
     "iopub.execute_input": "2021-07-09T08:20:26.460126Z",
     "iopub.status.busy": "2021-07-09T08:20:26.459420Z",
     "iopub.status.idle": "2021-07-09T08:20:26.490753Z",
     "shell.execute_reply": "2021-07-09T08:20:26.490068Z",
     "shell.execute_reply.started": "2021-07-09T08:10:53.747993Z"
    },
    "papermill": {
     "duration": 0.13549,
     "end_time": "2021-07-09T08:20:26.490941",
     "exception": false,
     "start_time": "2021-07-09T08:20:26.355451",
     "status": "completed"
    },
    "tags": []
   },
   "outputs": [],
   "source": [
    "x_test = test_data\n",
    "y_pred = model.predict(x_test)\n",
    "originaltest_data = pd.read_csv('/kaggle/input/titanic/test.csv')\n",
    "submission = pd.DataFrame({\n",
    "        \"PassengerId\": originaltest_data[\"PassengerId\"],\n",
    "        \"Survived\": y_pred\n",
    "    })\n",
    "submission.to_csv('submission.csv',index=False)\n"
   ]
  }
 ],
 "metadata": {
  "kernelspec": {
   "display_name": "Python 3",
   "language": "python",
   "name": "python3"
  },
  "language_info": {
   "codemirror_mode": {
    "name": "ipython",
    "version": 3
   },
   "file_extension": ".py",
   "mimetype": "text/x-python",
   "name": "python",
   "nbconvert_exporter": "python",
   "pygments_lexer": "ipython3",
   "version": "3.7.10"
  },
  "papermill": {
   "default_parameters": {},
   "duration": 37.770921,
   "end_time": "2021-07-09T08:20:27.499436",
   "environment_variables": {},
   "exception": null,
   "input_path": "__notebook__.ipynb",
   "output_path": "__notebook__.ipynb",
   "parameters": {},
   "start_time": "2021-07-09T08:19:49.728515",
   "version": "2.3.3"
  }
 },
 "nbformat": 4,
 "nbformat_minor": 5
}
